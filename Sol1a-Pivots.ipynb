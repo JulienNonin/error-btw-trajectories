{
 "cells": [
  {
   "cell_type": "markdown",
   "metadata": {},
   "source": [
    "# Estimating errors between two trajectories"
   ]
  },
  {
   "cell_type": "code",
   "execution_count": 12,
   "metadata": {},
   "outputs": [],
   "source": [
    "import numpy as np\n",
    "\n",
    "import matplotlib.pyplot as plt\n",
    "import validator as validator\n",
    "from utils import *\n",
    "from matplotlib.ticker import MaxNLocator"
   ]
  },
  {
   "cell_type": "markdown",
   "metadata": {},
   "source": [
    "---\n",
    "## Solution 2 - Pivots"
   ]
  },
  {
   "cell_type": "code",
   "execution_count": 2,
   "metadata": {},
   "outputs": [],
   "source": [
    "dist, dist_to_line = distance, distance_to_line\n",
    "\n",
    "def find_next_focus_point1(p1, p2, q1, q2):\n",
    "    \"\"\"\n",
    "    The closest point (p2 or q2) to the two current points (p1 or q1)\n",
    "    Returns: True if p2 is the next focus point, False if q2\n",
    "    \"\"\"\n",
    "    return min(dist(p2, p1), dist(p2, q1)) < min(dist(q2, p1), dist(q2, q1)) #p2 is the closest point\n",
    "\n",
    "def find_next_focus_point2(p1, p2, q1, q2):\n",
    "    \"\"\"\n",
    "    The closest point (p2 or q2) to its respective point (p1 or q1)\n",
    "    \"\"\"\n",
    "    return dist(p2, p1) < dist(q2, q1) #p2 is the closest point\n",
    "    \n",
    "def find_next_focus_point3(p1, p2, q1, q2):\n",
    "    \"\"\"\n",
    "    distance between p2 (or q1) and the line (p1q1) \n",
    "    \"\"\"\n",
    "    return dist_to_line(*(p1, q1), p2) < dist_to_line(*(p1, q1), q2)\n",
    "\n",
    "\n",
    "def find_next_focus_point4(p1, p2, q1, q2, oldpoint):\n",
    "    \"\"\"\n",
    "    distance between p2 (or q1) and the line (p1q1) \n",
    "    \"\"\"\n",
    "    wrong_side = orientation(p1, q1, oldpoint)\n",
    "    if orientation(p1, q1, p2) == wrong_side:\n",
    "        return False\n",
    "    elif orientation(p1, q1, q2) == wrong_side:\n",
    "        return True\n",
    "    else:\n",
    "        return dist_to_line(*(p1, q1), p2) < dist_to_line(*(p1, q1), q2)\n",
    "    \n",
    "def find_next_focus_point5(p1, p2, q1, q2):\n",
    "    \"\"\"\n",
    "    The closest point (p2 or q2) to its respective point (p1 or q1)\n",
    "    \"\"\"\n",
    "    return dist(q1, p2) < dist(q2, p1) #p2 is the closest point"
   ]
  },
  {
   "cell_type": "markdown",
   "metadata": {},
   "source": [
    "We are defining `si` and `tj` instead of simply using `S[i]` and `T[j]`, in order to be capable of redefining these points in the case of intersection."
   ]
  },
  {
   "cell_type": "markdown",
   "metadata": {},
   "source": [
    "### *Idea 1* - Simple switch between pivots"
   ]
  },
  {
   "cell_type": "code",
   "execution_count": 3,
   "metadata": {},
   "outputs": [],
   "source": [
    "def error_btw_trajectories(S, T):\n",
    "    assert len(S) >= 2 and len(T) >= 1, \"IncorrectInputTrajectories\"\n",
    "    i, j = 0, 0 # i (or j) is the index of the current point along S (or T)\n",
    "    si, tj = S[i], T[j]\n",
    "    plt.figure()\n",
    "    plt.plot(*S.transpose(), '-o', *T.transpose(), '-o')\n",
    "    ax = plt.gca()\n",
    "    ax.xaxis.set_major_locator(MaxNLocator(integer=True))\n",
    "    ax.yaxis.set_major_locator(MaxNLocator(integer=True))\n",
    "    plt.axis(\"equal\")\n",
    "    plt.grid()\n",
    "    error, old_point = 0, S[0]\n",
    "    while i < len(S) - 1 and j < len(T) - 1:\n",
    "        intersect = intersection_btw_segs(si, S[i+1], tj, T[j+1])\n",
    "        if np.all(intersect != np.inf): # if the segments [S_i, S_i+1] and [T_i, T_i+1] intersect\n",
    "            # Compute area of the triangle intersect, si, tj\n",
    "            error += triangle_area(si, tj, intersect, ax)\n",
    "            old_point = si # TODO : is this a good idea ??????????\n",
    "            si, tj = intersect, intersect\n",
    "            plt.plot(*intersect, 'og')\n",
    "#             print(\"intersection\")\n",
    "        else:\n",
    "            if find_next_focus_point4(si, S[i+1], tj, T[j+1], old_point):\n",
    "                old_point = si\n",
    "                si, i = S[i+1], i+1\n",
    "            else:\n",
    "                old_point = tj\n",
    "                tj, j = T[j+1], j+1\n",
    "            # Compute area of the triangle old_point, si, tj\n",
    "            error += triangle_area(old_point, si, tj, ax)\n",
    "#         print(i, j, error)\n",
    "    \n",
    "    if i == len(S) - 1:\n",
    "        error += triangle_area(si, tj, T[j+1], ax)\n",
    "        j += 1\n",
    "        for j in range(j, len(T)-1):\n",
    "            error += triangle_area(si, T[j], T[j+1], ax)\n",
    "    elif j == len(T) - 1: #else ?\n",
    "        error += triangle_area(tj, si, S[i+1], ax)\n",
    "        i += 1\n",
    "        for i in range(i, len(S)-1):\n",
    "            error += triangle_area(tj, S[i], S[i+1], ax)\n",
    "    plt.show()\n",
    "    Slen = sum(norm(S[i+1] - S[i]) for i in range(len(S) - 1))\n",
    "    return error / Slen"
   ]
  },
  {
   "cell_type": "code",
   "execution_count": 4,
   "metadata": {},
   "outputs": [
    {
     "name": "stdout",
     "output_type": "stream",
     "text": [
      "test0.txt\t"
     ]
    },
    {
     "data": {
      "image/png": "[encoded data removed]",
      "text/plain": [
       "<Figure size 432x288 with 1 Axes>"
      ]
     },
     "metadata": {
      "needs_background": "light"
     },
     "output_type": "display_data"
    },
    {
     "name": "stdout",
     "output_type": "stream",
     "text": [
      "ok \t The expected value is indeed 0.6666666666666666\n",
      "\n",
      "test1.txt\t"
     ]
    },
    {
     "data": {
      "image/png": "[encoded data removed]",
      "text/plain": [
       "<Figure size 432x288 with 1 Axes>"
      ]
     },
     "metadata": {
      "needs_background": "light"
     },
     "output_type": "display_data"
    },
    {
     "name": "stdout",
     "output_type": "stream",
     "text": [
      "ok \t The expected value is indeed 2.1648256639775307\n",
      "\n",
      "test10.txt\t"
     ]
    },
    {
     "data": {
      "image/png": "[encoded data removed]",
      "text/plain": [
       "<Figure size 432x288 with 1 Axes>"
      ]
     },
     "metadata": {
      "needs_background": "light"
     },
     "output_type": "display_data"
    },
    {
     "name": "stdout",
     "output_type": "stream",
     "text": [
      "NOT ok \t The expected value is 1.75, but the output value is 2.375.\n",
      "\n",
      "test11.txt\t"
     ]
    },
    {
     "data": {
      "image/png": "[encoded data removed]",
      "text/plain": [
       "<Figure size 432x288 with 1 Axes>"
      ]
     },
     "metadata": {
      "needs_background": "light"
     },
     "output_type": "display_data"
    },
    {
     "name": "stdout",
     "output_type": "stream",
     "text": [
      "NOT ok \t The expected value is 1.7777777777777777, but the output value is 2.3333333333333335.\n",
      "\n",
      "test12.txt\t"
     ]
    },
    {
     "data": {
      "image/png": "[encoded data removed]",
      "text/plain": [
       "<Figure size 432x288 with 1 Axes>"
      ]
     },
     "metadata": {
      "needs_background": "light"
     },
     "output_type": "display_data"
    },
    {
     "name": "stdout",
     "output_type": "stream",
     "text": [
      "NOT ok \t The expected value is 2.9140118883872597, but the output value is 3.885349184516346.\n",
      "\n",
      "test13.txt\t"
     ]
    },
    {
     "data": {
      "image/png": "[encoded data removed]",
      "text/plain": [
       "<Figure size 432x288 with 1 Axes>"
      ]
     },
     "metadata": {
      "needs_background": "light"
     },
     "output_type": "display_data"
    },
    {
     "name": "stdout",
     "output_type": "stream",
     "text": [
      "NOT ok \t The expected value is 2.0, but the output value is 2.666666666668.\n",
      "\n",
      "test2.txt\t"
     ]
    },
    {
     "data": {
      "image/png": "[encoded data removed]",
      "text/plain": [
       "<Figure size 432x288 with 1 Axes>"
      ]
     },
     "metadata": {
      "needs_background": "light"
     },
     "output_type": "display_data"
    },
    {
     "name": "stdout",
     "output_type": "stream",
     "text": [
      "NOT ok \t The expected value is 1.3188658017585226, but the output value is 1.6119470910381943.\n",
      "\n",
      "test3.txt\t"
     ]
    },
    {
     "data": {
      "image/png": "[encoded data removed]",
      "text/plain": [
       "<Figure size 432x288 with 1 Axes>"
      ]
     },
     "metadata": {
      "needs_background": "light"
     },
     "output_type": "display_data"
    },
    {
     "name": "stdout",
     "output_type": "stream",
     "text": [
      "NOT ok \t The expected value is 2.8, but the output value is 4.2.\n",
      "\n",
      "test4.txt\t"
     ]
    },
    {
     "data": {
      "image/png": "[encoded data removed]",
      "text/plain": [
       "<Figure size 432x288 with 1 Axes>"
      ]
     },
     "metadata": {
      "needs_background": "light"
     },
     "output_type": "display_data"
    },
    {
     "name": "stdout",
     "output_type": "stream",
     "text": [
      "ok \t The expected value is indeed 3.17157287525381\n",
      "\n",
      "test5.txt\t"
     ]
    },
    {
     "data": {
      "image/png": "[encoded data removed]",
      "text/plain": [
       "<Figure size 432x288 with 1 Axes>"
      ]
     },
     "metadata": {
      "needs_background": "light"
     },
     "output_type": "display_data"
    },
    {
     "name": "stdout",
     "output_type": "stream",
     "text": [
      "NOT ok \t The expected value is 3.058302415423317, but the output value is 3.2848433350843034.\n",
      "\n",
      "test6.txt\t"
     ]
    },
    {
     "data": {
      "image/png": "[encoded data removed]",
      "text/plain": [
       "<Figure size 432x288 with 1 Axes>"
      ]
     },
     "metadata": {
      "needs_background": "light"
     },
     "output_type": "display_data"
    },
    {
     "name": "stdout",
     "output_type": "stream",
     "text": [
      "ok \t The expected value is indeed 0.7071067811865475\n",
      "\n",
      "test8.txt\t"
     ]
    },
    {
     "data": {
      "image/png": "[encoded data removed]",
      "text/plain": [
       "<Figure size 432x288 with 1 Axes>"
      ]
     },
     "metadata": {
      "needs_background": "light"
     },
     "output_type": "display_data"
    },
    {
     "name": "stdout",
     "output_type": "stream",
     "text": [
      "NOT ok \t The expected value is 0.2, but the output value is 0.8.\n",
      "\n",
      "test9.txt\t"
     ]
    },
    {
     "data": {
      "image/png": "[encoded data removed]",
      "text/plain": [
       "<Figure size 432x288 with 1 Axes>"
      ]
     },
     "metadata": {
      "needs_background": "light"
     },
     "output_type": "display_data"
    },
    {
     "name": "stdout",
     "output_type": "stream",
     "text": [
      "NOT ok \t The expected value is 0.55, but the output value is 0.7.\n",
      "\n"
     ]
    },
    {
     "data": {
      "text/plain": [
       "False"
      ]
     },
     "execution_count": 4,
     "metadata": {},
     "output_type": "execute_result"
    }
   ],
   "source": [
    "validator.test(error_btw_trajectories, samples_range = slice(0, 13), dirname = \"test/\")\n",
    "#../indoor-location-oracles/Oracles/"
   ]
  },
  {
   "cell_type": "markdown",
   "metadata": {},
   "source": [
    "### Unittesting"
   ]
  },
  {
   "cell_type": "code",
   "execution_count": 5,
   "metadata": {},
   "outputs": [],
   "source": [
    "import unittest\n",
    "from os import listdir"
   ]
  },
  {
   "cell_type": "code",
   "execution_count": 6,
   "metadata": {},
   "outputs": [],
   "source": [
    "def fetch_test_data(dirname, correct = True, criterion = '.txt', sep = ',', samples = slice(0, None)):\n",
    "    \"\"\"\n",
    "    >>> fetch_test_data(\"../indoor-location-oracles/Oracles/CorrectInputTrajectories/\")[0]\n",
    "    ['10_parallelTrajectories.txt', array([[1., 1.],\n",
    "           [3., 1.]]), array([[1., 2.],\n",
    "           [3., 2.]]), 1.0, 0.001]\n",
    "    >>> fetch_test_data(\"../indoor-location-oracles/Oracles/IncorrectInputTrajectories/\", False)[2]\n",
    "    [array([[0., 0.],\n",
    "           [1., 0.]]), array([], dtype=float64)]\n",
    "    >>> fetch_test_data(\"../indoor-location-oracles/Oracles/IncorrectInputTrajectories/\", False)[1]\n",
    "    [array([[0., 1.]]), array([], dtype=float64)]\n",
    "    \"\"\"\n",
    "    test_file_names = [filename for filename in listdir(dirname) if criterion in filename]\n",
    "    tests_sample = []\n",
    "    for filename in sorted(test_file_names)[samples]:\n",
    "        with open(dirname + filename, \"r\") as file:\n",
    "            lines = file.read().splitlines() # getting rid of \\n\n",
    "            data = [[float(n) for n in line.split(sep) if n] for line in lines] # parse data\n",
    "        \n",
    "        reference = np.array(list(zip(data[0], data[1]))) # line 0 : x-axis of the reference trajectory, line 1 : y-axis\n",
    "        acquired = np.array(list(zip(data[2], data[3])))  # line 2 : x-axis of the acquired trajectory, line 3 : y-axis\n",
    "        if correct:\n",
    "            expected_output, = data[4] or [-1]\n",
    "            epsilon, = data[5] or [-1]\n",
    "            tests_sample.append([filename, reference, acquired, expected_output, epsilon])\n",
    "        else:\n",
    "            tests_sample.append([reference, acquired])\n",
    "    return tests_sample\n",
    "\n",
    "if __name__ == \"__main__\":\n",
    "    doctest.testmod()"
   ]
  },
  {
   "cell_type": "code",
   "execution_count": 7,
   "metadata": {},
   "outputs": [],
   "source": [
    "class TestEstimator(unittest.TestCase):\n",
    "    \n",
    "    def test_incorrect_input(self):\n",
    "        dirname = \"../indoor-location-oracles/Oracles/IncorrectInputTrajectories/\"\n",
    "        for reference, acquired in fetch_test_data(dirname, correct = False):\n",
    "            with self.assertRaises(AssertionError):\n",
    "                error_btw_trajectories(reference, acquired)\n",
    "    \n",
    "    def test_correct_input(self):\n",
    "        dirname = \"../indoor-location-oracles/Oracles/CorrectInputTrajectories/\"\n",
    "        for filename, reference, acquired, expected_output, epsilon \\\n",
    "         in fetch_test_data(dirname, samples = slice(0,None)):\n",
    "            output = error_btw_trajectories(reference, acquired)\n",
    "\n",
    "            with self.subTest(test = filename, output = output, expected_output = expected_output):\n",
    "                self.assertLessEqual(abs(expected_output - output), epsilon)"
   ]
  },
  {
   "cell_type": "code",
   "execution_count": 8,
   "metadata": {},
   "outputs": [
    {
     "name": "stderr",
     "output_type": "stream",
     "text": [
      "EE\n",
      "======================================================================\n",
      "ERROR: test_correct_input (unittest_validator.TestEstimator)\n",
      "----------------------------------------------------------------------\n",
      "Traceback (most recent call last):\n",
      "  File \"/home/jean/Documents/M1/CSintro/err_btw_trajectories/unittest_validator.py\", line 52, in test_correct_input\n",
      "    output = error_btw_trajectories(reference, acquired)\n",
      "NameError: name 'error_btw_trajectories' is not defined\n",
      "\n",
      "======================================================================\n",
      "ERROR: test_incorrect_input (unittest_validator.TestEstimator)\n",
      "----------------------------------------------------------------------\n",
      "Traceback (most recent call last):\n",
      "  File \"/home/jean/Documents/M1/CSintro/err_btw_trajectories/unittest_validator.py\", line 46, in test_incorrect_input\n",
      "    error_btw_trajectories(reference, acquired)\n",
      "NameError: name 'error_btw_trajectories' is not defined\n",
      "\n",
      "----------------------------------------------------------------------\n",
      "Ran 2 tests in 0.005s\n",
      "\n",
      "FAILED (errors=2)\n"
     ]
    },
    {
     "data": {
      "text/plain": [
       "<unittest.runner.TextTestResult run=2 errors=2 failures=0>"
      ]
     },
     "execution_count": 8,
     "metadata": {},
     "output_type": "execute_result"
    }
   ],
   "source": [
    "suite = unittest.TestLoader().loadTestsFromTestCase(TestEstimator)\n",
    "unittest.TextTestRunner().run(suite)"
   ]
  },
  {
   "cell_type": "code",
   "execution_count": 9,
   "metadata": {},
   "outputs": [
    {
     "name": "stdout",
     "output_type": "stream",
     "text": [
      "2.0\n"
     ]
    }
   ],
   "source": [
    "L = ['-0.5,1.5', '0,0', '-0.5,0,1,1.5', '0,2,-2,0', '2', '0.0000001']\n",
    "T = [list(map(float, l.split(','))) for l in L]\n",
    "a, = T[4]\n",
    "print(a)"
   ]
  },
  {
   "cell_type": "code",
   "execution_count": 10,
   "metadata": {},
   "outputs": [
    {
     "name": "stdout",
     "output_type": "stream",
     "text": [
      "[]\n"
     ]
    }
   ],
   "source": [
    "data = [[0.0, 1.0], [0.0, 0.0], [], [], [], []]\n",
    "reference = np.array(list(zip(data[0], data[1]))) # line 0 : x-axis of the reference trajectory, line 1 : y-axis\n",
    "epsilon, = data[5] or [data[5]]\n",
    "print(epsilon)\n",
    "# print(reference, *data[5] else 1)"
   ]
  },
  {
   "cell_type": "code",
   "execution_count": 11,
   "metadata": {},
   "outputs": [
    {
     "ename": "SyntaxError",
     "evalue": "invalid syntax (<ipython-input-11-7cc5d2933b07>, line 2)",
     "output_type": "error",
     "traceback": [
      "\u001b[0;36m  File \u001b[0;32m\"<ipython-input-11-7cc5d2933b07>\"\u001b[0;36m, line \u001b[0;32m2\u001b[0m\n\u001b[0;31m    f = e, or\u001b[0m\n\u001b[0m            ^\u001b[0m\n\u001b[0;31mSyntaxError\u001b[0m\u001b[0;31m:\u001b[0m invalid syntax\n"
     ]
    }
   ],
   "source": [
    "e = []\n",
    "f = e, or "
   ]
  },
  {
   "cell_type": "code",
   "execution_count": null,
   "metadata": {},
   "outputs": [],
   "source": [
    "a = 0.00001"
   ]
  },
  {
   "cell_type": "code",
   "execution_count": null,
   "metadata": {},
   "outputs": [],
   "source": [
    "print(1/a)"
   ]
  },
  {
   "cell_type": "code",
   "execution_count": null,
   "metadata": {},
   "outputs": [],
   "source": [
    "L = [[5, 4], [8, 9]]\n",
    "for i, (a,b) in enumerate(L):\n",
    "    print(i,a,b)"
   ]
  },
  {
   "cell_type": "code",
   "execution_count": null,
   "metadata": {},
   "outputs": [],
   "source": []
  },
  {
   "cell_type": "code",
   "execution_count": null,
   "metadata": {},
   "outputs": [],
   "source": []
  }
 ],
 "metadata": {
  "kernelspec": {
   "display_name": "Python 3",
   "language": "python",
   "name": "python3"
  },
  "language_info": {
   "codemirror_mode": {
    "name": "ipython",
    "version": 3
   },
   "file_extension": ".py",
   "mimetype": "text/x-python",
   "name": "python",
   "nbconvert_exporter": "python",
   "pygments_lexer": "ipython3",
   "version": "3.7.3"
  }
 },
 "nbformat": 4,
 "nbformat_minor": 4
}
