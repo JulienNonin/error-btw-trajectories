{
 "cells": [
  {
   "cell_type": "code",
   "execution_count": null,
   "metadata": {},
   "outputs": [],
   "source": [
    "import numpy as np\n",
    "import matplotlib.pyplot as plt\n",
    "import validator as validator\n",
    "from utils import *\n",
    "from matplotlib.ticker import MaxNLocator"
   ]
  },
  {
   "cell_type": "code",
   "execution_count": null,
   "metadata": {},
   "outputs": [],
   "source": [
    "dist, dist_to_line = distance, distance_to_line\n",
    "\n",
    "def find_next_focus_point3(p1, p2, q1, q2):\n",
    "    \"\"\"\n",
    "    distance between p2 (or q1) and the line (p1q1) \n",
    "    \"\"\"\n",
    "    return dist_to_line(*(p1, q1), p2) < dist_to_line(*(p1, q1), q2)\n",
    "\n",
    "def isin(elt, L):\n",
    "    return np.any([np.all(elt == l) for l in L])"
   ]
  },
  {
   "cell_type": "code",
   "execution_count": null,
   "metadata": {},
   "outputs": [],
   "source": [
    "def sort_points_over_seg(A, B, points):\n",
    "    \"\"\"\n",
    "    TODO : doctring & unittest\n",
    "    (Points containes points on segment [A, B])\n",
    "    Add points on segment [A, B] in the right order\n",
    "    \"\"\"\n",
    "    return sorted(points, key = lambda p : distance(p, A))"
   ]
  },
  {
   "cell_type": "code",
   "execution_count": null,
   "metadata": {},
   "outputs": [],
   "source": [
    "def add_intersections(A, B):\n",
    "    \"\"\"TODO : docstring & unittest\"\"\"\n",
    "    S = []\n",
    "    I = []\n",
    "    for i in range(len(A)-1):\n",
    "        line = []\n",
    "        S.append(A[i])\n",
    "        for j in range(0, len(B)-1):\n",
    "#             print(A[i], A[i+1], B[j], B[j+1])\n",
    "            intersect = intersection_btw_segs(A[i], A[i+1], B[j], B[j+1])\n",
    "            if np.all(intersect != np.inf):\n",
    "                line.append(intersect)\n",
    "                I.append(intersect)\n",
    "        S.extend(sort_points_over_seg(A[i], A[i+1], line))\n",
    "    S.append(A[-1])\n",
    "    return np.array(S), np.array(I)"
   ]
  },
  {
   "cell_type": "code",
   "execution_count": null,
   "metadata": {},
   "outputs": [],
   "source": [
    "X = np.array([[0, 1], [1, 3], [2, 2], [3, -1], [4, 2], [3, 3]])\n",
    "Y = np.array([[0, 2], [1, 2], [1.5, 3], [2.5, 3], [2, 0], [1, 0], [0.5, 3]])\n",
    "# X  = np.array([[0. ,2.], [2., 2.], [2., 0.]])\n",
    "# Y = np.array([[1.,  1. ],  [2.4, 1. ],  [3.,  0. ]])\n",
    "plt.plot(*X.T, '--o')\n",
    "plt.plot(*Y.T, '--o')\n",
    "S, I = add_intersections(X, Y)\n",
    "plt.figure()\n",
    "# print(S)\n",
    "plt.plot(*S.T, '--o')\n",
    "plt.plot(*Y.T, '--o')\n",
    "plt.show()\n",
    "print(I)"
   ]
  },
  {
   "cell_type": "code",
   "execution_count": null,
   "metadata": {},
   "outputs": [],
   "source": [
    "def error_btw_trajectories(A, B):\n",
    "    assert len(A) >= 2 and len(B) >= 1, \"IncorrectInputTrajectories\"\n",
    "    S, I  = add_intersections(A, B)\n",
    "    T, I = add_intersections(B, A)\n",
    "    I = I if len(I) else []\n",
    "    i, j = 0, 0\n",
    "    error = [0]\n",
    "    \n",
    "    plt.figure()\n",
    "    plt.plot(*S.transpose(), '-o', *T.transpose(), '-o')\n",
    "    ax = plt.gca()\n",
    "    ax.xaxis.set_major_locator(MaxNLocator(integer=True))\n",
    "    ax.yaxis.set_major_locator(MaxNLocator(integer=True))\n",
    "    plt.grid()\n",
    "#     plt.axis(\"equal\")\n",
    "    \n",
    "    while i < len(S) - 1 and j < len(T) - 1:\n",
    "#         print(i, j, f\"si={S[i]}, tj={T[j]}, si+1={S[i+1]}, tj+1={T[j+1]}, err={error}\")\n",
    "#         print(isin(T, I), isin(S, I))\n",
    "        if np.all(S[i] == T[j]):\n",
    "#             print(\"=== Both on intersection ===\")\n",
    "            sign = 1 if error[-1] < 0 else -1\n",
    "            error.append(sign * triangle_area(S[i], T[j+1], S[i+1], ax))\n",
    "            i += 1\n",
    "            j += 1\n",
    "#             print(i, j, len(S), len(T))\n",
    "#             print(i, j, f\"si={S[i]}, tj={T[j]}, si+1={S[i+1]}, tj+1={T[j+1]}, err={error}\")\n",
    "\n",
    "        elif isin(S[i], I):\n",
    "#             print(\"=== Intersection on S ===\")\n",
    "            while not isin(T[j], I):\n",
    "                error[-1] += triangle_area_oriented(S[i], T[j], T[j+1], ax)\n",
    "                j += 1\n",
    "        elif isin(T[j], I):\n",
    "#             print(\"=== Intersection on T ===\", \"tj = \", T[j], I, T[j] in I, type(T), type(I))\n",
    "            while not isin(S[i], I):\n",
    "                error[-1] += triangle_area_oriented(S[i], T[j], S[i+1], ax)\n",
    "                i += 1\n",
    "        else:\n",
    "            if find_next_focus_point3(S[i], S[i+1], T[j], T[j+1]):\n",
    "                error[-1] += triangle_area_oriented(S[i], T[j], S[i+1], ax)\n",
    "                i += 1\n",
    "            else:\n",
    "                error[-1] += triangle_area_oriented(S[i], T[j], T[j+1], ax)\n",
    "                j += 1\n",
    "    \n",
    "#     print(\"=== END phase ===\")\n",
    "    error.append(0)\n",
    "    if not(i == len(S)-1 and j == len(T)-1):\n",
    "        if i == len(S) - 1:\n",
    "            error[-1] += triangle_area_oriented(S[i], T[j], T[j+1], ax)\n",
    "            j += 1\n",
    "            for j in range(j, len(T) - 1):\n",
    "                error[-1] += triangle_area_oriented(S[i], T[j], T[j+1], ax)\n",
    "        elif j == len(T) - 1: #else ?\n",
    "            error[-1] += triangle_area_oriented(S[i], T[j], S[i+1], ax)\n",
    "            i += 1\n",
    "            for i in range(i, len(S)-1):\n",
    "                error[-1] += triangle_area_oriented(S[i], T[j], S[i+1], ax)\n",
    "    \n",
    "    plt.show()\n",
    "    Slen = sum(norm(S[i+1] - S[i]) for i in range(len(S) - 1))\n",
    "    return sum(abs(err) for err in error) / Slen"
   ]
  },
  {
   "cell_type": "code",
   "execution_count": null,
   "metadata": {},
   "outputs": [],
   "source": [
    "validator.test(error_btw_trajectories, samples_range = slice(0, None), dirname = \"../indoor-location-oracles/Oracles/SampleTrajectories/\")\n",
    "# \"../indoor-location-oracles/Oracles/SampleTrajectories/\""
   ]
  },
  {
   "cell_type": "code",
   "execution_count": null,
   "metadata": {},
   "outputs": [],
   "source": [
    "import unittest\n",
    "from os import listdir"
   ]
  },
  {
   "cell_type": "code",
   "execution_count": null,
   "metadata": {},
   "outputs": [],
   "source": [
    "def fetch_test_data(dirname, correct = True, criterion = '.txt', sep = ',', samples = slice(0, None)):\n",
    "    \"\"\"\n",
    "    >>> fetch_test_data(\"indoor-location-oracles/Oracles/CorrectInputTrajectories/\")[0]\n",
    "    ['10_parallelTrajectories.txt', array([[1., 1.],\n",
    "           [3., 1.]]), array([[1., 2.],\n",
    "           [3., 2.]]), 1.0, 0.001]\n",
    "    >>> fetch_test_data(\"indoor-location-oracles/Oracles/IncorrectInputTrajectories/\", False)[2]\n",
    "    [array([[0., 0.],\n",
    "           [1., 0.]]), array([], dtype=float64)]\n",
    "    >>> fetch_test_data(\"indoor-location-oracles/Oracles/IncorrectInputTrajectories/\", False)[1]\n",
    "    [array([[0., 1.]]), array([], dtype=float64)]\n",
    "    \"\"\"\n",
    "    test_file_names = [filename for filename in listdir(dirname) if criterion in filename]\n",
    "    tests_sample = []\n",
    "    for filename in sorted(test_file_names)[samples]:\n",
    "        with open(dirname + filename, \"r\") as file:\n",
    "            lines = file.read().splitlines() # getting rid of \\n\n",
    "            data = [[float(n) for n in line.split(sep) if n] for line in lines] # parse data\n",
    "        \n",
    "        reference = np.array(list(zip(data[0], data[1]))) # line 0 : x-axis of the reference trajectory, line 1 : y-axis\n",
    "        acquired = np.array(list(zip(data[2], data[3])))  # line 2 : x-axis of the acquired trajectory, line 3 : y-axis\n",
    "        if correct:\n",
    "            expected_output, = data[4] or [-1]\n",
    "            epsilon, = data[5] or [-1]\n",
    "            tests_sample.append([filename, reference, acquired, expected_output, epsilon])\n",
    "        else:\n",
    "            tests_sample.append([reference, acquired])\n",
    "    return tests_sample\n",
    "\n",
    "if __name__ == \"__main__\":\n",
    "    doctest.testmod()"
   ]
  },
  {
   "cell_type": "code",
   "execution_count": null,
   "metadata": {},
   "outputs": [],
   "source": [
    "class TestEstimator(unittest.TestCase):\n",
    "    \n",
    "    def test_incorrect_input(self):\n",
    "        dirname = \"../indoor-location-oracles/Oracles/IncorrectInputTrajectories/\"\n",
    "        for reference, acquired in fetch_test_data(dirname, correct = False):\n",
    "            with self.assertRaises(AssertionError):\n",
    "                error_btw_trajectories(reference, acquired)\n",
    "    \n",
    "    def test_correct_input(self):\n",
    "        dirname = \"../indoor-location-oracles/Oracles/CorrectInputTrajectories/\"\n",
    "        for filename, reference, acquired, expected_output, epsilon \\\n",
    "         in fetch_test_data(dirname):\n",
    "            output = error_btw_trajectories(reference, acquired)\n",
    "\n",
    "            with self.subTest(test = filename, output = output, expected_output = expected_output):\n",
    "                self.assertLessEqual(abs(expected_output - output), epsilon)\n",
    "                \n",
    "    def test_samples(self):\n",
    "        dirname = \"../indoor-location-oracles/Oracles/SampleTrajectories/\"\n",
    "        for filename, reference, acquired, expected_output, epsilon \\\n",
    "         in fetch_test_data(dirname):\n",
    "            output = error_btw_trajectories(reference, acquired)\n",
    "\n",
    "            with self.subTest(test = filename, output = output, expected_output = expected_output):\n",
    "                self.assertLessEqual(abs(expected_output - output), epsilon)"
   ]
  },
  {
   "cell_type": "code",
   "execution_count": null,
   "metadata": {},
   "outputs": [],
   "source": [
    "suite = unittest.TestLoader().loadTestsFromTestCase(TestEstimator)\n",
    "unittest.TextTestRunner().run(suite)"
   ]
  },
  {
   "cell_type": "code",
   "execution_count": null,
   "metadata": {},
   "outputs": [],
   "source": []
  }
 ],
 "metadata": {
  "kernelspec": {
   "display_name": "Python 3",
   "language": "python",
   "name": "python3"
  },
  "language_info": {
   "codemirror_mode": {
    "name": "ipython",
    "version": 3
   },
   "file_extension": ".py",
   "mimetype": "text/x-python",
   "name": "python",
   "nbconvert_exporter": "python",
   "pygments_lexer": "ipython3",
   "version": "3.7.3"
  }
 },
 "nbformat": 4,
 "nbformat_minor": 4
}
