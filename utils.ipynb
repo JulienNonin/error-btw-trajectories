{
 "cells": [
  {
   "cell_type": "markdown",
   "metadata": {},
   "source": [
    "# Utils"
   ]
  },
  {
   "cell_type": "code",
   "execution_count": 2,
   "metadata": {},
   "outputs": [],
   "source": [
    "import numpy as np\n",
    "import doctest\n",
    "from matplotlib.patches import Polygon"
   ]
  },
  {
   "cell_type": "markdown",
   "metadata": {},
   "source": [
    "## Distance"
   ]
  },
  {
   "cell_type": "code",
   "execution_count": 117,
   "metadata": {},
   "outputs": [],
   "source": [
    "def distance(P, Q):\n",
    "    \"\"\" Computes the distance between two points P and Q\n",
    "    \n",
    "    >>> np.round(distance(*np.array([[-8, 9],[0, 0]])), 2)\n",
    "    12.04\n",
    "    >>> np.round(distance(np.array([10, 20]), np.array([-4, 5])), 2)\n",
    "    20.52\n",
    "    >>> np.round(distance(np.array([-3, 5]), np.array([-3, 5])), 2)\n",
    "    0.0\n",
    "    \"\"\"\n",
    "    return np.sqrt(np.sum((P-Q)**2 ))\n",
    "\n",
    "def distance_to_line(A1, A2, B):\n",
    "    \"\"\" Distance from B to line (A1A2)\n",
    "    \n",
    "    >>> np.round(distance_to_line(*np.array([[-1, 2], [2, 3], [1, 1]])), 2)\n",
    "    1.58\n",
    "    >>> np.round(distance_to_line(*np.array([[0, 1], [0, 3], [-1, 0]])), 2) # (A1A2) vertical\n",
    "    1.0\n",
    "    \"\"\"\n",
    "    # equation of the line (A1A2) is defined as by = ax + c\n",
    "    b, a = A2 - A1\n",
    "    c = b*A1[1] - a*A1[0]\n",
    "    return abs(b*B[1] - a*B[0] - c) / np.hypot(a, b)\n",
    "\n",
    "if __name__ == \"__main__\":\n",
    "    doctest.testmod()"
   ]
  },
  {
   "cell_type": "markdown",
   "metadata": {},
   "source": [
    "## Vectors"
   ]
  },
  {
   "cell_type": "code",
   "execution_count": 96,
   "metadata": {},
   "outputs": [],
   "source": [
    "def norm(X):\n",
    "    \"\"\"\n",
    "    >>> np.round(norm(np.array([2, 2])), 2)\n",
    "    2.83\n",
    "    >>> np.round(norm(np.array([1, -1.5])), 2)\n",
    "    1.8\n",
    "    \"\"\"\n",
    "    return distance(X, 0)\n",
    "\n",
    "def orientation(A, B, C):\n",
    "    \"\"\" Returns:\n",
    "        *  1 if A-B-C are clockwise ordered\n",
    "        *  0              colinear\n",
    "        * -1              counterclockwise ordered\n",
    "        \n",
    "    >>> orientation(*np.array([[-1, 1], [-1, 3], [1, 2]]))\n",
    "    1\n",
    "    >>> orientation(*np.array([[-1, 3], [-1, 1], [1, 2]]))\n",
    "    -1\n",
    "    >>> orientation(*np.array([[-1, 1], [-1, 3], [-1, 2]]))\n",
    "    0\n",
    "    >>> orientation(*np.array([[-1, 1], [-1, 3], [-1, 3]])) # B = C\n",
    "    0\n",
    "    \"\"\"\n",
    "    r = (B[1] - A[1]) * (C[0] - B[0]) - (C[1] - B[1]) * (B[0] - A[0])\n",
    "    if np.abs(r) < 1e-5 : # r == 0\n",
    "        return 0\n",
    "    elif r > 0:\n",
    "        return 1\n",
    "    else:\n",
    "        return -1\n",
    "    \n",
    "def is_colinear(v1, v2):\n",
    "    return abs(np.dot(v1, v2)) == norm(v1) * norm(v2)\n",
    "\n",
    "if __name__==\"__main__\":\n",
    "    doctest.testmod()"
   ]
  },
  {
   "cell_type": "markdown",
   "metadata": {},
   "source": [
    "## Intersections"
   ]
  },
  {
   "cell_type": "code",
   "execution_count": 73,
   "metadata": {},
   "outputs": [],
   "source": [
    "def find_eq_line(A, B):\n",
    "    \"\"\"ax + by = c\n",
    "    \n",
    "    N.B. if (a, b, c) is a solution then λ(a, b, c) is also a solution\n",
    "    >>> find_eq_line(*np.array([[3, 3], [2, 0]])) # working test\n",
    "    (-3, 1, -6)\n",
    "    >>> find_eq_line(*np.array([[1, 2], [3, 2]])) # a = 0\n",
    "    (0, -2, -4)\n",
    "    >>> find_eq_line(*np.array([[0, 0], [1, 3]])) # c = 0\n",
    "    (3, -1, 0)\n",
    "    >>> find_eq_line(*np.array([[2, 2], [2, -1]]))# b = 0\n",
    "    (-3, 0, -6)\n",
    "    \"\"\"\n",
    "    a = B[1] - A[1]\n",
    "    b = A[0] - B[0]\n",
    "    c = b*A[1] + a*A[0]\n",
    "    return a, b, c\n",
    "\n",
    "if __name__==\"__main__\":\n",
    "    doctest.testmod()"
   ]
  },
  {
   "cell_type": "markdown",
   "metadata": {},
   "source": [
    "### Finding the intersection point of two lines"
   ]
  },
  {
   "cell_type": "code",
   "execution_count": 79,
   "metadata": {},
   "outputs": [],
   "source": [
    "def intersection_btw_lines(p1, p2, q1, q2):\n",
    "    \"\"\"\n",
    "    >>> intersection_btw_lines(*np.array([[-2, 2], [3, 4], [1, 5], [1, 2]])) # [p1, p2] and ]q1, q2[ intersect\n",
    "    array([1. , 3.2])\n",
    "    >>> intersection_btw_lines(*np.array([[1, 2], [4, 2], [-2, 3], [-2, 1]])) # (p1, p2) and ]q1, q2[ intersect but not [p1, p2] and ]q1, q2[\n",
    "    array([-2.,  2.])\n",
    "    >>> intersection_btw_lines(*np.array([[2, 3], [2, 0], [2, 2], [2, 1]])) # colinear\n",
    "    array([inf, inf])\n",
    "    >>> intersection_btw_lines(*np.array([[2, 3], [2, 0], [1, 2], [1, -1]])) # parallel\n",
    "    array([inf, inf])\n",
    "    >>> intersection_btw_lines(*np.array([[3, 3], [2, 0], [0, 1], [1, -1]])) # no intersection but [p1, p2) and (q1, q2) intersect\n",
    "    array([ 1.4, -1.8])\n",
    "    >>> intersection_btw_lines(*np.array([[2, 0], [3, 2], [2, 3], [-2, 3]])) # no intersection but (p2, p1] and (q1, q2) intersect\n",
    "    array([3.5, 3. ])\n",
    "    \"\"\"\n",
    "    a1, b1, c1 = find_eq_line(p1, p2)\n",
    "    a2, b2, c2 = find_eq_line(q1, q2)\n",
    "    denom = a1*b2 - a2*b1\n",
    "    xs = (c1*b2 - c2*b1) / denom if denom else np.inf\n",
    "    ys = (a1*c2 - a2*c1) / denom if denom else np.inf\n",
    "    return np.array([xs, ys])\n",
    "\n",
    "if __name__==\"__main__\":\n",
    "    doctest.testmod()"
   ]
  },
  {
   "cell_type": "markdown",
   "metadata": {},
   "source": [
    "### Finding the intersection point of two line segments\n",
    "Let $p_1$ and $p_2$ be the (2D) endpoints of one segment and let $q_1$ and $q_2$ be the endpoints of the other. A parametrization of these lines are defined as:\n",
    "$$\n",
    "\\left\\{\\begin{array}{l}{p_{1}+t_p\\left(p_{2}-p_{1}\\right)} \\\\ {p_{3}+t_q\\left(p_{4}-p_{3}\\right)}\\end{array}\\right.\n",
    "$$\n",
    "where $t_p, t_q \\in [0,1]$. Thus, the segments intersect iff there exists $(s,t)$ such that:\n",
    "$$p_1+t_p(p_2-p_1) = q_1+t_q(q_2-q_1)$$\n",
    "i.e.\n",
    "$$t_q(q_2-q_1) + t_p(p_1-p_2) = p_1 - q_1$$\n",
    "We can define our system using matrices ($p_1$, $p_2$, $q_1$, $q_2$ being a column vector of size 2) :\n",
    "$$\n",
    "\\underbrace{\\left[\n",
    "    \\begin{array}{ll}\n",
    "        q_2-q_1 & p_1-p_1\\end{array}\n",
    "\\right]}_A \\times \n",
    "\\underbrace{\\left[\n",
    "    \\begin{array}{l}\n",
    "        t_q \\\\ t_p\\end{array}\n",
    "\\right]}_T = \n",
    "\\underbrace{\\left[\n",
    "    \\begin{array}{ll}\n",
    "        p_1 & q_1\\end{array}\n",
    "\\right]}_B\n",
    "$$\n",
    "* if a solution $(t_p, t_q)$ exists and is in $[0,1]\\times[0,1]$, the segments intersect (at $p_{1}+t_p(p_{2}-p_{1})$).\n",
    "* if A is not inversible, the segments have the same slope (we need to test if segments are colinear or parallel)"
   ]
  },
  {
   "cell_type": "code",
   "execution_count": 49,
   "metadata": {},
   "outputs": [],
   "source": [
    "def intersection_btw_segs(p1, p2, q1, q2, display = False):\n",
    "    \"\"\" Find intersection point between [p1, p2] and [q1, q2] \n",
    "    Parameters :\n",
    "        - p1, p2, q1, q2 : np.ndarrays of shape (2,)\n",
    "    Returns : the coordinates of the intersection points,  \n",
    "        if the line segments intersect\n",
    "    \n",
    "    [TODO] Manage the case where the matrix is singular\n",
    "    \n",
    "    >>> intersection_btw_segs(*np.array([[-2, 2], [3, 4], [1, 5], [1, 2]])) # [p1, p2] and ]q1, q2[ intersect\n",
    "    array([1. , 3.2])\n",
    "    >>> intersection_btw_segs(*np.array([[1, 2], [4, 2], [-2, 3], [-2, 1]])) # (p1, p2) and ]q1, q2[ intersect but not [p1, p2] and ]q1, q2[\n",
    "    array([inf, inf])\n",
    "    >>> intersection_btw_segs(*np.array([[2, 3], [2, 0], [2, 2], [2, 1]])) # colinear\n",
    "    array([inf, inf])\n",
    "    >>> intersection_btw_segs(*np.array([[2, 3], [2, 0], [1, 2], [1, -1]])) # parallel\n",
    "    array([inf, inf])\n",
    "\n",
    "    \"\"\"\n",
    "    \n",
    "    a = np.array([q2-q1, p1-p2]).transpose()\n",
    "    if display:\n",
    "        plt.plot([p1[0], p2[0]], [p1[1], p2[1]], '-o')\n",
    "        plt.plot([q1[0], q2[0]], [q1[1], q2[1]], '-o')\n",
    "    if np.linalg.det(a): # if a is invertible (if lines intersect)\n",
    "        b = p1 - q1\n",
    "        t = np.linalg.solve(a,b)\n",
    "        if np.all(0 < t) and np.all(t < 1): # segments intersect\n",
    "            intersection = p1 + t[1]*(p2-p1)\n",
    "            if display:\n",
    "                plt.plot(*(intersection), 'o')\n",
    "            return intersection \n",
    "    return np.array([np.inf, np.inf])\n",
    "\n",
    "if __name__==\"__main__\":\n",
    "    doctest.testmod()"
   ]
  },
  {
   "cell_type": "markdown",
   "metadata": {},
   "source": [
    "### Finding the intersection between a line and a line segment"
   ]
  },
  {
   "cell_type": "code",
   "execution_count": 80,
   "metadata": {},
   "outputs": [],
   "source": [
    "def intersection_btw_line_seg(p1, p2, q1, q2):\n",
    "    \"\"\"intersection between (p1, p2) and ]q1, q2[\n",
    "    \n",
    "    >>> intersection_btw_line_seg(*np.array([[-2, 2], [3, 4], [1, 5], [1, 2]])) # [p1, p2] and ]q1, q2[ intersect\n",
    "    array([1. , 3.2])\n",
    "    >>> intersection_btw_line_seg(*np.array([[1, 2], [4, 2], [-2, 3], [-2, 1]])) # (p1, p2) and ]q1, q2[ intersect but not [p1, p2] and ]q1, q2[\n",
    "    array([-2.,  2.])\n",
    "    >>> intersection_btw_line_seg(*np.array([[2, 3], [2, 0], [2, 2], [2, 1]])) # colinear\n",
    "    -inf\n",
    "    >>> intersection_btw_line_seg(*np.array([[2, 3], [2, 0], [1, 2], [1, -1]])) # parallel\n",
    "    -inf\n",
    "    >>> intersection_btw_line_seg(*np.array([[3, 3], [2, 0], [0, 1], [1, -1]])) # no intersection but [p1, p2) and (q1, q2) intersect\n",
    "    inf\n",
    "    >>> intersection_btw_line_seg(*np.array([[2, 0], [3, 3], [2, 4], [-2, 4]])) # no intersection but (p2, p1] and (q1, q2) intersect\n",
    "    -inf\n",
    "    \"\"\"\n",
    "    s = intersection_btw_lines(p1, p2, q1, q2)\n",
    "    # we have two find whether or not s belongs to ]q1, q2]\n",
    "    ks = np.dot(q2-q1, s-q1)\n",
    "    kp = np.dot(q2-q1, q2-q1)\n",
    "    if 0 < ks < kp:\n",
    "        return s\n",
    "    elif ks >= kp:\n",
    "        return np.inf\n",
    "    else: # ks <= 0\n",
    "        return -np.inf\n",
    "    \n",
    "if __name__==\"__main__\":\n",
    "    doctest.testmod()"
   ]
  },
  {
   "cell_type": "markdown",
   "metadata": {},
   "source": [
    "## Triangle area"
   ]
  },
  {
   "cell_type": "code",
   "execution_count": 114,
   "metadata": {},
   "outputs": [],
   "source": [
    "NTRIANGLE = 0\n",
    "def triangle_area(A, B, C, ax = None):\n",
    "    \"\"\"\n",
    "    Compute the area of a triangle defined by its three vertices A, B and C\n",
    "    \n",
    "    >>> triangle_area(*np.array([[-3, -2], [-1, 1], [2, 3]]))\n",
    "    2.5\n",
    "    >>> triangle_area(*np.array([[-2, -2], [-2, 3], [-2, 2]])) # flat triangle\n",
    "    0.0\n",
    "    >>> triangle_area(*np.array([[-1, 1], [-3, -2], [2, 3]])) # other orientation\n",
    "    2.5\n",
    "    \"\"\"\n",
    "    global NTRIANGLE\n",
    "    if ax: # Draw the triangle on ax\n",
    "        NTRIANGLE += 1\n",
    "        ax.add_patch(Polygon([A, B, C], facecolor=[\"grey\", \"lightgrey\"][NTRIANGLE % 2], ec = \"black\", alpha = 0.3))\n",
    "    return 0.5 * abs((B[0]-A[0])*(C[1]-A[1]) - (C[0]-A[0])*(B[1]-A[1]))\n",
    "\n",
    "if __name__ == \"__main__\":\n",
    "    doctest.testmod()"
   ]
  },
  {
   "cell_type": "code",
   "execution_count": 115,
   "metadata": {},
   "outputs": [],
   "source": [
    "def triangle_area_oriented(A, B, C, ax = None):\n",
    "    \"\"\"\n",
    "    Compute the \"signed\" area of a triangle defined by its three vertices A, B and C:\n",
    "        * if A, B, C are clockwise oriented, the area is positive\n",
    "        *                counterclockwise  ,             negative\n",
    "    \n",
    "    >>> triangle_area_oriented(*np.array([[-3, -2], [-1, 1], [2, 3]]))\n",
    "    2.5\n",
    "    >>> triangle_area_oriented(*np.array([[-2, -2], [-2, 3], [-2, 2]])) # flat triangle\n",
    "    0.0\n",
    "    >>> triangle_area_oriented(*np.array([[-1, 1], [-3, -2], [2, 3]])) # other orientation\n",
    "    -2.5\n",
    "    \"\"\"\n",
    "    area = 0.5 * abs((B[0]-A[0])*(C[1]-A[1]) - (C[0]-A[0])*(B[1]-A[1])) * orientation(A, B, C)\n",
    "    if ax: # Draw the triangle on ax\n",
    "        color = \"yellow\" if area < 0 else \"lightblue\"\n",
    "        ax.add_patch(Polygon([A, B, C], facecolor=color, ec = \"black\", alpha = 0.4))\n",
    "    return area\n",
    "\n",
    "if __name__ == \"__main__\":\n",
    "    doctest.testmod()"
   ]
  }
 ],
 "metadata": {
  "kernelspec": {
   "display_name": "Python 3",
   "language": "python",
   "name": "python3"
  },
  "language_info": {
   "codemirror_mode": {
    "name": "ipython",
    "version": 3
   },
   "file_extension": ".py",
   "mimetype": "text/x-python",
   "name": "python",
   "nbconvert_exporter": "python",
   "pygments_lexer": "ipython3",
   "version": "3.7.3"
  }
 },
 "nbformat": 4,
 "nbformat_minor": 4
}
