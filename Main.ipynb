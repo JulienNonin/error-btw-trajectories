{
 "cells": [
  {
   "cell_type": "markdown",
   "metadata": {},
   "source": [
    "# Estimating errors between two trajectories"
   ]
  },
  {
   "cell_type": "code",
   "execution_count": 1,
   "metadata": {},
   "outputs": [],
   "source": [
    "import numpy as np\n",
    "import matplotlib.pyplot as plt\n",
    "import validator as validator"
   ]
  },
  {
   "cell_type": "markdown",
   "metadata": {},
   "source": [
    "## Useful functions\n",
    "### How to test a solution?"
   ]
  },
  {
   "cell_type": "code",
   "execution_count": 2,
   "metadata": {},
   "outputs": [],
   "source": [
    "def solution(X, Y):\n",
    "    return np.abs(np.trapz(*X.transpose()[::-1]) - np.trapz(*Y.transpose()[::-1]))"
   ]
  },
  {
   "cell_type": "code",
   "execution_count": 3,
   "metadata": {},
   "outputs": [
    {
     "data": {
      "text/plain": [
       "array([[0., 0.],\n",
       "       [1., 0.],\n",
       "       [2., 1.],\n",
       "       [3., 1.],\n",
       "       [4., 0.]])"
      ]
     },
     "execution_count": 3,
     "metadata": {},
     "output_type": "execute_result"
    }
   ],
   "source": [
    "np.loadtxt(\"test/[test0]simple.txt\", skiprows=0, max_rows=2, unpack=True, delimiter=',')"
   ]
  },
  {
   "cell_type": "code",
   "execution_count": 4,
   "metadata": {},
   "outputs": [
    {
     "name": "stdout",
     "output_type": "stream",
     "text": [
      "[test0]simple.txt\tok \t The expected value is indeed 9.0\n",
      "\n",
      "[test1]negative.txt\tok \t The expected value is indeed 10.0\n",
      "\n",
      "[test2]simple2.txt\tok \t The expected value is indeed 29.325000000000003\n",
      "\n",
      "[test3]intersection.txt\tNOT ok \t The expected value is 63.4, but the output value is 8.5.\n",
      "\n",
      "[test4]poor_sided.txt\tNOT ok \t The expected value is 17.0, but the output value is 31.0.\n",
      "\n"
     ]
    },
    {
     "data": {
      "text/plain": [
       "False"
      ]
     },
     "execution_count": 4,
     "metadata": {},
     "output_type": "execute_result"
    }
   ],
   "source": [
    "validator.test(solution, display = False, samples_range = slice(0, 5))"
   ]
  },
  {
   "cell_type": "markdown",
   "metadata": {},
   "source": [
    "### Distance between two points"
   ]
  },
  {
   "cell_type": "code",
   "execution_count": 5,
   "metadata": {},
   "outputs": [],
   "source": [
    "dist = lambda P, Q : np.sqrt(np.sum((P-Q)**2 ))\n",
    "\n",
    "def dist_to_line(A1, A2, B):\n",
    "    \"\"\" distance from B to line (A1A2)\"\"\"\n",
    "    # equation of the line (A1A2) is defined as by = ax + c\n",
    "    b, a = A2 - A1\n",
    "    c = b*A1[1] - a*A1[0]\n",
    "    return abs(b*B[1] - a*B[0] - c)/np.hypot(a, b)\n",
    "\n",
    "# def slope(A, B):\n",
    "#     \"\"\" returns slope of the line (AB) \"\"\"\n",
    "#     return (B[1] - A[1]) / (B[0] - A[0])\n",
    "\n",
    "def orientation(A, B, C):\n",
    "    \"\"\" Return 1 if Counterclockwise (and colinear)??, -1 if clockwise \"\"\"\n",
    "    r = (B[1] - A[1]) * (C[0] - B[0]) - (C[1] - B[1]) * (B[0] - A[0])\n",
    "    return 1 if r >=0 else -1 # TODO r >= 0 OR r > 0 ?????? (r = 0 => colinear)"
   ]
  },
  {
   "cell_type": "markdown",
   "metadata": {},
   "source": [
    "### Finding the intersection point of two line segments\n",
    "Let $p_1$ and $p_2$ be the (2D) endpoints of one segment and let $q_1$ and $q_2$ be the endpoints of the other. A parametrization of these lines are defined as:\n",
    "$$\n",
    "\\left\\{\\begin{array}{l}{p_{1}+t_p\\left(p_{2}-p_{1}\\right)} \\\\ {p_{3}+t_q\\left(p_{4}-p_{3}\\right)}\\end{array}\\right.\n",
    "$$\n",
    "where $t_p, t_q \\in [0,1]$. Thus, the segments intersect iff there exists $(s,t)$ such that:\n",
    "$$p_1+t_p(p_2-p_1) = q_1+t_q(q_2-q_1)$$\n",
    "i.e.\n",
    "$$t_q(q_2-q_1) + t_p(p_1-p_2) = p_1 - q_1$$\n",
    "We can define our system using matrices ($p_1$, $p_2$, $q_1$, $q_2$ being a column vector of size 2) :\n",
    "$$\n",
    "\\underbrace{\\left[\n",
    "    \\begin{array}{ll}\n",
    "        q_2-q_1 & p_1-p_1\\end{array}\n",
    "\\right]}_A \\times \n",
    "\\underbrace{\\left[\n",
    "    \\begin{array}{l}\n",
    "        t_q \\\\ t_p\\end{array}\n",
    "\\right]}_T = \n",
    "\\underbrace{\\left[\n",
    "    \\begin{array}{ll}\n",
    "        p_1 & q_1\\end{array}\n",
    "\\right]}_B\n",
    "$$\n",
    "* if a solution $(t_p, t_q)$ exists and is in $[0,1]\\times[0,1]$, the segments intersect (at $p_{1}+t_p(p_{2}-p_{1})$).\n",
    "* if A is not inversible, the segments have the same slope (we need to test if segments are colinear or parallel)"
   ]
  },
  {
   "cell_type": "code",
   "execution_count": 6,
   "metadata": {},
   "outputs": [],
   "source": [
    "def find_intersection(p1, p2, q1, q2, display = False):\n",
    "    \"\"\" Find intersection point between [p1, p2] and [q1, q2] \n",
    "    Parameters :\n",
    "        - p1, p2, q1, q2 : np.ndarrays of shape (2,)\n",
    "    Returns : the coordinates of the intersection points,  \n",
    "        if the line segments intersect\n",
    "    \n",
    "    [TODO] Manage the case where the matrix is singular\n",
    "    \"\"\"\n",
    "    a = np.array([q2-q1, p1-p2]).transpose()\n",
    "    if display:\n",
    "        plt.plot([p1[0], p2[0]], [p1[1], p2[1]], '-o')\n",
    "        plt.plot([q1[0], q2[0]], [q1[1], q2[1]], '-o')\n",
    "    if np.linalg.det(a): # if a is invertible (if lines intersect)\n",
    "        b = p1 - q1\n",
    "        t = np.linalg.solve(a,b)\n",
    "        if np.all(0 < t) and np.all(t < 1): # segments intersect\n",
    "            intersection = p1 + t[1]*(p2-p1)\n",
    "            if display:\n",
    "                plt.plot(*(intersection), 'o')\n",
    "            return intersection \n",
    "    else: # TODO ?\n",
    "        pass\n",
    "    return None"
   ]
  },
  {
   "cell_type": "code",
   "execution_count": 7,
   "metadata": {},
   "outputs": [
    {
     "name": "stdout",
     "output_type": "stream",
     "text": [
      "True\n"
     ]
    },
    {
     "data": {
      "image/png": "[encoded data removed]",
      "text/plain": [
       "<Figure size 432x288 with 1 Axes>"
      ]
     },
     "metadata": {
      "needs_background": "light"
     },
     "output_type": "display_data"
    }
   ],
   "source": [
    "p1, p2, q1, q2 = np.array([0,0]), np.array([12, 0]), np.array([2, 0.5]), np.array([3, -1])\n",
    "plt.plot(*p1,'o', *p2, 'o', *q1, 'o', *q2, 'o')\n",
    "intersect = find_intersection(p1, p2, q1, q2)\n",
    "print(np.all(intersect != None))"
   ]
  },
  {
   "cell_type": "markdown",
   "metadata": {},
   "source": [
    "### Suite .."
   ]
  },
  {
   "cell_type": "code",
   "execution_count": 7,
   "metadata": {},
   "outputs": [],
   "source": [
    "# coder intersections"
   ]
  },
  {
   "cell_type": "markdown",
   "metadata": {},
   "source": [
    "---\n",
    "## Solution 1 - Bases triangulaires"
   ]
  },
  {
   "cell_type": "code",
   "execution_count": 16,
   "metadata": {},
   "outputs": [
    {
     "ename": "IndexError",
     "evalue": "index 5 is out of bounds for axis 0 with size 5",
     "output_type": "error",
     "traceback": [
      "\u001b[0;31m---------------------------------------------------------------------------\u001b[0m",
      "\u001b[0;31mIndexError\u001b[0m                                Traceback (most recent call last)",
      "\u001b[0;32m<ipython-input-16-fc754a92c544>\u001b[0m in \u001b[0;36m<module>\u001b[0;34m\u001b[0m\n\u001b[1;32m     22\u001b[0m \u001b[0mP\u001b[0m\u001b[0;34m=\u001b[0m\u001b[0mnp\u001b[0m\u001b[0;34m.\u001b[0m\u001b[0marray\u001b[0m\u001b[0;34m(\u001b[0m\u001b[0;34m[\u001b[0m\u001b[0;34m[\u001b[0m\u001b[0;36m0\u001b[0m\u001b[0;34m,\u001b[0m\u001b[0;36m3\u001b[0m\u001b[0;34m]\u001b[0m\u001b[0;34m,\u001b[0m\u001b[0;34m[\u001b[0m\u001b[0;36m1\u001b[0m\u001b[0;34m,\u001b[0m\u001b[0;36m3\u001b[0m\u001b[0;34m]\u001b[0m\u001b[0;34m,\u001b[0m\u001b[0;34m[\u001b[0m\u001b[0;36m2\u001b[0m\u001b[0;34m,\u001b[0m\u001b[0;36m2\u001b[0m\u001b[0;34m]\u001b[0m\u001b[0;34m,\u001b[0m\u001b[0;34m[\u001b[0m\u001b[0;36m3\u001b[0m\u001b[0;34m,\u001b[0m\u001b[0;36m2\u001b[0m\u001b[0;34m]\u001b[0m\u001b[0;34m,\u001b[0m\u001b[0;34m[\u001b[0m\u001b[0;36m4\u001b[0m\u001b[0;34m,\u001b[0m\u001b[0;36m5\u001b[0m\u001b[0;34m]\u001b[0m\u001b[0;34m]\u001b[0m\u001b[0;34m)\u001b[0m\u001b[0;34m\u001b[0m\u001b[0;34m\u001b[0m\u001b[0m\n\u001b[1;32m     23\u001b[0m \u001b[0;34m\u001b[0m\u001b[0m\n\u001b[0;32m---> 24\u001b[0;31m \u001b[0mlengI\u001b[0m\u001b[0;34m(\u001b[0m\u001b[0mT\u001b[0m\u001b[0;34m,\u001b[0m\u001b[0mP\u001b[0m\u001b[0;34m)\u001b[0m\u001b[0;34m\u001b[0m\u001b[0;34m\u001b[0m\u001b[0m\n\u001b[0m",
      "\u001b[0;32m<ipython-input-16-fc754a92c544>\u001b[0m in \u001b[0;36mlengI\u001b[0;34m(T, P)\u001b[0m\n\u001b[1;32m     14\u001b[0m     \u001b[0;32mfor\u001b[0m \u001b[0mi\u001b[0m \u001b[0;32min\u001b[0m \u001b[0mrange\u001b[0m \u001b[0;34m(\u001b[0m\u001b[0mlen\u001b[0m\u001b[0;34m(\u001b[0m\u001b[0mP\u001b[0m\u001b[0;34m[\u001b[0m\u001b[0;34m:\u001b[0m\u001b[0;34m,\u001b[0m \u001b[0;36m0\u001b[0m\u001b[0;34m]\u001b[0m\u001b[0;34m)\u001b[0m\u001b[0;34m+\u001b[0m\u001b[0;36m1\u001b[0m\u001b[0;34m)\u001b[0m\u001b[0;34m:\u001b[0m\u001b[0;34m\u001b[0m\u001b[0;34m\u001b[0m\u001b[0m\n\u001b[1;32m     15\u001b[0m         \u001b[0;32mif\u001b[0m \u001b[0mlen\u001b[0m\u001b[0;34m(\u001b[0m\u001b[0mP\u001b[0m\u001b[0;34m[\u001b[0m\u001b[0;34m:\u001b[0m\u001b[0;34m,\u001b[0m \u001b[0;36m0\u001b[0m\u001b[0;34m]\u001b[0m\u001b[0;34m)\u001b[0m\u001b[0;34m>\u001b[0m\u001b[0md1\u001b[0m\u001b[0;34m:\u001b[0m\u001b[0;34m\u001b[0m\u001b[0;34m\u001b[0m\u001b[0m\n\u001b[0;32m---> 16\u001b[0;31m             \u001b[0md1\u001b[0m\u001b[0;34m=\u001b[0m\u001b[0mP\u001b[0m\u001b[0;34m[\u001b[0m\u001b[0;34m:\u001b[0m\u001b[0;34m,\u001b[0m \u001b[0;36m0\u001b[0m\u001b[0;34m]\u001b[0m\u001b[0;34m[\u001b[0m\u001b[0mi\u001b[0m\u001b[0;34m]\u001b[0m\u001b[0;34m\u001b[0m\u001b[0;34m\u001b[0m\u001b[0m\n\u001b[0m\u001b[1;32m     17\u001b[0m     \u001b[0;32mfor\u001b[0m \u001b[0mi\u001b[0m \u001b[0;32min\u001b[0m \u001b[0mrange\u001b[0m \u001b[0;34m(\u001b[0m\u001b[0mlen\u001b[0m\u001b[0;34m(\u001b[0m\u001b[0mT\u001b[0m\u001b[0;34m[\u001b[0m\u001b[0;34m:\u001b[0m\u001b[0;34m,\u001b[0m \u001b[0;36m0\u001b[0m\u001b[0;34m]\u001b[0m\u001b[0;34m)\u001b[0m\u001b[0;34m+\u001b[0m\u001b[0;36m1\u001b[0m\u001b[0;34m)\u001b[0m\u001b[0;34m:\u001b[0m\u001b[0;34m\u001b[0m\u001b[0;34m\u001b[0m\u001b[0m\n\u001b[1;32m     18\u001b[0m         \u001b[0;32mif\u001b[0m \u001b[0mT\u001b[0m\u001b[0;34m[\u001b[0m\u001b[0;34m:\u001b[0m\u001b[0;34m,\u001b[0m \u001b[0;36m0\u001b[0m\u001b[0;34m]\u001b[0m\u001b[0;34m[\u001b[0m\u001b[0mi\u001b[0m\u001b[0;34m]\u001b[0m\u001b[0;34m>\u001b[0m\u001b[0md2\u001b[0m\u001b[0;34m:\u001b[0m\u001b[0;34m\u001b[0m\u001b[0;34m\u001b[0m\u001b[0m\n",
      "\u001b[0;31mIndexError\u001b[0m: index 5 is out of bounds for axis 0 with size 5"
     ]
    }
   ],
   "source": [
    "# T # trajectory , two colums matrix \n",
    "# P # path follown, two colums matrix\n",
    "\n",
    "#lgT=len(T), lgP=len(P),depMin=min (T[0][0], P[0][0]),endMin=min (T[lgT][0], P[LgP][0])\n",
    "\n",
    "\n",
    "# interval  of  computing is [depmin, endMin]\n",
    "\n",
    "# determination of the intervall lenght for calculation\n",
    "\n",
    "def lengI(T,P):\n",
    "    d1=0\n",
    "    d2=0\n",
    "    for i in range (len(P[:, 0])+1):\n",
    "        if len(P[:, 0])>d1:\n",
    "            d1=P[:, 0][i]\n",
    "    for i in range (len(T[:, 0])+1):\n",
    "        if T[:, 0][i]>d2:\n",
    "            d2=T[:, 0][i]\n",
    "    return min (d1,d2)\n",
    "T=np.array([[0,0],[1,0],[2,1],[3,1],[4,0]])\n",
    "P=np.array([[0,3],[1,3],[2,2],[3,2],[4,5]])\n",
    "\n",
    "lengI(T,P)\n"
   ]
  },
  {
   "cell_type": "code",
   "execution_count": 9,
   "metadata": {},
   "outputs": [
    {
     "ename": "SyntaxError",
     "evalue": "invalid syntax (<ipython-input-9-b0f2daa9d8ba>, line 5)",
     "output_type": "error",
     "traceback": [
      "\u001b[0;36m  File \u001b[0;32m\"<ipython-input-9-b0f2daa9d8ba>\"\u001b[0;36m, line \u001b[0;32m5\u001b[0m\n\u001b[0;31m    for i in range len(P[:, 0]):\u001b[0m\n\u001b[0m                     ^\u001b[0m\n\u001b[0;31mSyntaxError\u001b[0m\u001b[0;31m:\u001b[0m invalid syntax\n"
     ]
    }
   ],
   "source": [
    "T=np.array([[0,0],[1,0],[2,1],[3,1],[4,0]])\n",
    "P=np.array([[0,3],[1,3],[2,2],[3,2],[4,5]])\n",
    "len(P[:, 0])\n",
    "d1=0\n",
    "for i in range len(P[:, 0]):\n",
    "        if P[:, 0][i]>d1:\n",
    "            d1=P[:, 0][i]\n",
    "\n"
   ]
  },
  {
   "cell_type": "markdown",
   "metadata": {},
   "source": [
    "---\n",
    "## Solution 2 - Pivots"
   ]
  },
  {
   "cell_type": "code",
   "execution_count": 8,
   "metadata": {},
   "outputs": [
    {
     "data": {
      "image/png": "[encoded data removed]",
      "text/plain": [
       "<Figure size 432x288 with 1 Axes>"
      ]
     },
     "metadata": {
      "needs_background": "light"
     },
     "output_type": "display_data"
    }
   ],
   "source": [
    "from matplotlib.patches import Polygon\n",
    "from matplotlib.ticker import MaxNLocator\n",
    "\n",
    "testname = \"test/[test0]simple.txt\"\n",
    "X = np.loadtxt(testname, skiprows=0, max_rows=2, unpack=True, delimiter=',')\n",
    "Y = np.loadtxt(testname, skiprows=2, max_rows=2, unpack=True, delimiter=',')\n",
    "\n",
    "plt.figure()\n",
    "plt.plot(*X.transpose(), '--o', *Y.transpose(), '--o')\n",
    "plt.axis(\"equal\")\n",
    "plt.grid()\n",
    "plt.show()"
   ]
  },
  {
   "cell_type": "code",
   "execution_count": 9,
   "metadata": {},
   "outputs": [],
   "source": [
    "def find_next_focus_point1(p1, p2, q1, q2):\n",
    "    \"\"\"\n",
    "    The closest point (p2 or q2) to the two current points (p1 or q1)\n",
    "    Returns: True if p2 is the next focus point, False if q2\n",
    "    \"\"\"\n",
    "    return min(dist(p2, p1), dist(p2, q1)) < min(dist(q2, p1), dist(q2, q1)) #p2 is the closest point\n",
    "\n",
    "def find_next_focus_point2(p1, p2, q1, q2):\n",
    "    \"\"\"\n",
    "    The closest point (p2 or q2) to its respective point (p1 or q1)\n",
    "    \"\"\"\n",
    "    return dist(p2, p1) < dist(q2, q1) #p2 is the closest point\n",
    "    \n",
    "def find_next_focus_point3(p1, p2, q1, q2):\n",
    "    \"\"\"\n",
    "    distance between p2 (or q1) and the line (p1q1) \n",
    "    \"\"\"\n",
    "    return dist_to_line(*(p1, q1), p2) < dist_to_line(*(p1, q1), q2)\n",
    "\n",
    "\n",
    "def find_next_focus_point4(p1, p2, q1, q2, oldpoint):\n",
    "    \"\"\"\n",
    "    distance between p2 (or q1) and the line (p1q1) \n",
    "    \"\"\"\n",
    "    wrong_side = orientation(p1, q1, oldpoint)\n",
    "    if orientation(p1, q1, p2) == wrong_side:\n",
    "        return False\n",
    "    elif orientation(p1, q1, q2) == wrong_side:\n",
    "        return True\n",
    "    else:\n",
    "        return dist_to_line(*(p1, q1), p2) < dist_to_line(*(p1, q1), q2)"
   ]
  },
  {
   "cell_type": "code",
   "execution_count": 10,
   "metadata": {},
   "outputs": [],
   "source": [
    "NTRIANGLE = 0\n",
    "def triangle_area(A, B, C, ax):\n",
    "    global NTRIANGLE\n",
    "    NTRIANGLE += 1\n",
    "    ax.add_patch(Polygon([A, B, C], facecolor=[\"grey\", \"lightgrey\"][NTRIANGLE % 2], ec = \"black\", alpha = 0.3))\n",
    "    return 0.5 * abs((B[0]-A[0])*(C[1]-A[1]) - (C[0]-A[0])*(B[1]-A[1]))"
   ]
  },
  {
   "cell_type": "markdown",
   "metadata": {},
   "source": [
    "We are defining `si` and `tj` instead of simply using `S[i]` and `T[j]`, in order to be capable of redefining these points in the case of intersection."
   ]
  },
  {
   "cell_type": "code",
   "execution_count": 17,
   "metadata": {},
   "outputs": [],
   "source": [
    "def error_btw_trajectories(S, T):\n",
    "    i, j = 0, 0 # i (or j) is the index of the current point along S (or T)\n",
    "    si, tj = S[i], T[j]\n",
    "    plt.figure()\n",
    "    plt.plot(*S.transpose(), '-o', *T.transpose(), '-o')\n",
    "    ax = plt.gca()\n",
    "    ax.xaxis.set_major_locator(MaxNLocator(integer=True))\n",
    "    ax.yaxis.set_major_locator(MaxNLocator(integer=True))\n",
    "    #     plt.axis(\"equal\")\n",
    "    plt.grid()\n",
    "    error, old_point = 0, S[0]\n",
    "    while i < len(S) - 1 and j < len(T) - 1:\n",
    "#         print(i, j, si, S[i+1], tj, T[j+1])\n",
    "        # 1. Check whether or not there is an intersection between the two next segments\n",
    "        intersect = find_intersection(si, S[i+1], tj, T[j+1])\n",
    "        if np.all(intersect != None): # if the segments [S_i, S_i+1] and [T_i, T_i+1] intersect\n",
    "            # Compute area of the triangle intersect, si, tj\n",
    "            error += triangle_area(si, tj, intersect, ax)\n",
    "            old_point = si # TODO : is this a good idea ??????????\n",
    "            si, tj = intersect, intersect\n",
    "            plt.plot(*intersect, 'og')\n",
    "#             print(\"intersection\")\n",
    "        # If there is no intersection, we have to check the orientation of the two next points\n",
    "        else:\n",
    "            if orientation(si, tj, S[i+1]) != orientation(si, tj, T[j+1]):\n",
    "                #simple case : S[i+1] and T[j+1] are on the side of the line (si, tj)\n",
    "                if find_next_focus_point4(si, S[i+1], tj, T[j+1], old_point):\n",
    "                    old_point = si\n",
    "                    si, i = S[i+1], i+1\n",
    "                else:\n",
    "                    old_point = tj\n",
    "                    tj, j = T[j+1], j+1\n",
    "            else : #one point is on the \"wrong\" side of the line \n",
    "                wrong_side = orientation(si, tj, old_point) # TODO consider the case when oldpoint==si==tj\n",
    "                if orientation(si, tj, S[i+1]) == wrong_side: # we have to find the intersection between the line (si,S[i+1]) and a segment of T\n",
    "                    pass\n",
    "                elif orientation(si, tj, T[j+1]) == wrong_side: # we have to find the intersection between the line (si,S[i+1]) and a segment of S\n",
    "                    pass\n",
    "                else:\n",
    "                    print(\"There is a problem ?\")\n",
    "            # Compute area of the triangle old_point, si, tj\n",
    "            error += triangle_area(old_point, si, tj, ax)\n",
    "#         print(i, j, error)\n",
    "    \n",
    "    if i == len(S) - 1:\n",
    "        error += triangle_area(si, tj, T[j+1], ax)\n",
    "        j += 1\n",
    "        for j in range(j, len(T)-1):\n",
    "            error += triangle_area(si, T[j], T[j+1], ax)\n",
    "    elif j == len(T) - 1: #else ?\n",
    "        error += triangle_area(tj, si, S[i+1], ax)\n",
    "        i += 1\n",
    "        for i in range(i, len(S)-1):\n",
    "            error += triangle_area(tj, S[i], S[i+1], ax)\n",
    "    plt.show()\n",
    "    return error"
   ]
  },
  {
   "cell_type": "code",
   "execution_count": null,
   "metadata": {},
   "outputs": [],
   "source": [
    "validator.test(error_btw_trajectories)"
   ]
  },
  {
   "cell_type": "code",
   "execution_count": 88,
   "metadata": {},
   "outputs": [],
   "source": []
  },
  {
   "cell_type": "code",
   "execution_count": null,
   "metadata": {},
   "outputs": [],
   "source": []
  }
 ],
 "metadata": {
  "kernelspec": {
   "display_name": "Python 3",
   "language": "python",
   "name": "python3"
  },
  "language_info": {
   "codemirror_mode": {
    "name": "ipython",
    "version": 3
   },
   "file_extension": ".py",
   "mimetype": "text/x-python",
   "name": "python",
   "nbconvert_exporter": "python",
   "pygments_lexer": "ipython3",
   "version": "3.7.3"
  }
 },
 "nbformat": 4,
 "nbformat_minor": 4
}
