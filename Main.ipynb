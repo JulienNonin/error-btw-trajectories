{
 "cells": [
  {
   "cell_type": "code",
   "execution_count": null,
   "metadata": {},
   "outputs": [],
   "source": [
    "import numpy as np\n",
    "T # trajectory , two colums matrix \n",
    "P # path follown, two colums matrix\n",
    "\n",
    "lgT=len(T)\n",
    "lgP=len(P)\n",
    "\n",
    "depMin=min (T[0][0], P[0][0])\n",
    "endMin=min (T[lgT][0], P[LgP][0])\n",
    "\n",
    "# interval  of  computing is [depmin, endMin]\n",
    "\n",
    "Subdivision =[]\n",
    "\n"
   ]
  }
 ],
 "metadata": {
  "kernelspec": {
   "display_name": "Python 3",
   "language": "python",
   "name": "python3"
  },
  "language_info": {
   "codemirror_mode": {
    "name": "ipython",
    "version": 3
   },
   "file_extension": ".py",
   "mimetype": "text/x-python",
   "name": "python",
   "nbconvert_exporter": "python",
   "pygments_lexer": "ipython3",
   "version": "3.7.3"
  }
 },
 "nbformat": 4,
 "nbformat_minor": 2
}
