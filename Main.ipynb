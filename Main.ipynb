{
 "cells": [
  {
   "cell_type": "markdown",
   "metadata": {},
   "source": [
    "# Estimating errors between two trajectories"
   ]
  },
  {
   "cell_type": "code",
   "execution_count": 1,
   "metadata": {},
   "outputs": [],
   "source": [
    "import numpy as np\n",
    "import matplotlib.pyplot as plt\n",
    "import validator as validator"
   ]
  },
  {
   "cell_type": "markdown",
   "metadata": {},
   "source": [
    "## Useful functions\n",
    "### How to test a solution?"
   ]
  },
  {
   "cell_type": "code",
   "execution_count": null,
   "metadata": {},
   "outputs": [],
   "source": [
    "def solution(X, Y):\n",
    "    return np.abs(np.trapz(*X.transpose()[::-1]) - np.trapz(*Y.transpose()[::-1]))"
   ]
  },
  {
   "cell_type": "code",
   "execution_count": null,
   "metadata": {},
   "outputs": [],
   "source": [
    "validator.test(solution, display = False)"
   ]
  },
  {
   "cell_type": "markdown",
   "metadata": {},
   "source": [
    "### Distance between two points"
   ]
  },
  {
   "cell_type": "code",
   "execution_count": 39,
   "metadata": {},
   "outputs": [],
   "source": [
    "dist = lambda P, Q : np.sqrt(np.sum((P-Q)**2 ))\n",
    "\n",
    "def dist_to_line(A1, A2, B):\n",
    "    \"\"\" distance from B to line (A1A2)\"\"\"\n",
    "    # equation of the line (A1A2) is defined as by = ax + c\n",
    "    b, a = A2 - A1\n",
    "    c = b*A1[1] - a*A1[0]\n",
    "    return abs(b*B[1] - a*B[0] - c)/np.hypot(a, b)"
   ]
  },
  {
   "cell_type": "markdown",
   "metadata": {},
   "source": [
    "### Finding the intersection point of two line segments\n",
    "Let $p_1$ and $p_2$ be the (2D) endpoints of one segment and let $q_1$ and $q_2$ be the endpoints of the other. A parametrization of these lines are defined as:\n",
    "$$\n",
    "\\left\\{\\begin{array}{l}{p_{1}+t_p\\left(p_{2}-p_{1}\\right)} \\\\ {p_{3}+t_q\\left(p_{4}-p_{3}\\right)}\\end{array}\\right.\n",
    "$$\n",
    "where $t_p, t_q \\in [0,1]$. Thus, the segments intersect iff there exists $(s,t)$ such that:\n",
    "$$p_1+t_p(p_2-p_1) = q_1+t_q(q_2-q_1)$$\n",
    "i.e.\n",
    "$$t_q(q_2-q_1) + t_p(p_1-p_2) = p_1 - q_1$$\n",
    "We can define our system using matrices ($p_1$, $p_2$, $q_1$, $q_2$ being a column vector of size 2) :\n",
    "$$\n",
    "\\underbrace{\\left[\n",
    "    \\begin{array}{ll}\n",
    "        q_2-q_1 & p_1-p_1\\end{array}\n",
    "\\right]}_A \\times \n",
    "\\underbrace{\\left[\n",
    "    \\begin{array}{l}\n",
    "        t_q \\\\ t_p\\end{array}\n",
    "\\right]}_T = \n",
    "\\underbrace{\\left[\n",
    "    \\begin{array}{ll}\n",
    "        p_1 & q_1\\end{array}\n",
    "\\right]}_B\n",
    "$$\n",
    "* if a solution $(t_p, t_q)$ exists and is in $[0,1]\\times[0,1]$, the segments intersect (at $p_{1}+t_p(p_{2}-p_{1})$).\n",
    "* if A is not inversible, the segments have the same slope (we need to test if segments are colinear or parallel)"
   ]
  },
  {
   "cell_type": "code",
   "execution_count": 3,
   "metadata": {},
   "outputs": [],
   "source": [
    "def find_intersection(p1, p2, q1, q2, display = False):\n",
    "    \"\"\" Find intersection point between [p1, p2] and [q1, q2] \n",
    "    Parameters :\n",
    "        - p1, p2, q1, q2 : np.ndarrays of shape (2,)\n",
    "    Returns : the coordinates of the intersection points,  \n",
    "        if the line segments intersect\n",
    "    \n",
    "    [TODO] Manage the case where the matrix is singular\n",
    "    \"\"\"\n",
    "    a = np.array([q2-q1, p1-p2]).transpose()\n",
    "    if display:\n",
    "        plt.plot([p1[0], p2[0]], [p1[1], p2[1]], '-o')\n",
    "        plt.plot([q1[0], q2[0]], [q1[1], q2[1]], '-o')\n",
    "    if np.linalg.det(a): # if a is invertible (if lines intersect)\n",
    "        b = p1 - q1\n",
    "        t = np.linalg.solve(a,b)\n",
    "        if np.all(0 < t) and np.all(t < 1): # segments intersect\n",
    "            intersection = p1 + t[1]*(p2-p1)\n",
    "            if display:\n",
    "                plt.plot(*(intersection), 'o')\n",
    "            return intersection \n",
    "    else: # TODO ?\n",
    "        pass\n",
    "    return None"
   ]
  },
  {
   "cell_type": "markdown",
   "metadata": {},
   "source": [
    "### Suite .."
   ]
  },
  {
   "cell_type": "code",
   "execution_count": null,
   "metadata": {},
   "outputs": [],
   "source": [
    "# coder intersections"
   ]
  },
  {
   "cell_type": "markdown",
   "metadata": {},
   "source": [
    "---\n",
    "## Solution 1 - Bases triangulaires"
   ]
  },
  {
   "cell_type": "code",
   "execution_count": null,
   "metadata": {},
   "outputs": [],
   "source": [
    "# T # trajectory , two colums matrix \n",
    "# P # path follown, two colums matrix\n",
    "\n",
    "lgT=len(T)\n",
    "lgP=len(P)\n",
    "\n",
    "depMin=min (T[0][0], P[0][0])\n",
    "endMin=min (T[lgT][0], P[LgP][0])\n",
    "\n",
    "# interval  of  computing is [depmin, endMin]\n",
    "\n",
    "Subdivision =[]\n"
   ]
  },
  {
   "cell_type": "markdown",
   "metadata": {},
   "source": [
    "---\n",
    "## Solution 2 - Pivots"
   ]
  },
  {
   "cell_type": "code",
   "execution_count": 4,
   "metadata": {},
   "outputs": [
    {
     "data": {
      "image/png": "[encoded data removed]",
      "text/plain": [
       "<Figure size 432x288 with 1 Axes>"
      ]
     },
     "metadata": {
      "needs_background": "light"
     },
     "output_type": "display_data"
    }
   ],
   "source": [
    "from matplotlib.patches import Polygon\n",
    "testname = \"test/[test0]simple.txt\"\n",
    "X = np.loadtxt(testname, skiprows=0, max_rows=2, unpack=True)\n",
    "Y = np.loadtxt(testname, skiprows=2, max_rows=2, unpack=True)\n",
    "\n",
    "plt.figure()\n",
    "plt.plot(*X.transpose(), '--o', *Y.transpose(), '--o')\n",
    "plt.axis(\"equal\")\n",
    "plt.grid()\n",
    "plt.show()"
   ]
  },
  {
   "cell_type": "code",
   "execution_count": 26,
   "metadata": {},
   "outputs": [],
   "source": [
    "def find_next_focus_point1(p1, p2, q1, q2):\n",
    "    \"\"\"\n",
    "    The closest point (p2 or q2) to the two current points (p1 or q1)\n",
    "    Returns: True if p2 is the next focus point, False if q2\n",
    "    \"\"\"\n",
    "    if min(dist(p2, p1), dist(p2, q1)) < min(dist(q2, p1), dist(q2, q1)) : #p2 is the closest point\n",
    "        return True\n",
    "    else :\n",
    "        return False"
   ]
  },
  {
   "cell_type": "code",
   "execution_count": 40,
   "metadata": {},
   "outputs": [],
   "source": [
    "NTRIANGLE = 0\n",
    "def triangle_area(A, B, C, ax):\n",
    "    global NTRIANGLE\n",
    "    NTRIANGLE += 1\n",
    "    ax.add_patch(Polygon([A, B, C], facecolor=[\"grey\", \"lightgrey\"][NTRIANGLE % 2], ec = \"black\", alpha = 0.3))\n",
    "    return 0.5 * abs((B[0]-A[0])*(C[1]-A[1]) - (C[0]-A[0])*(B[1]-A[1]))"
   ]
  },
  {
   "cell_type": "markdown",
   "metadata": {},
   "source": [
    "We are defining `si` and `tj` instead of simply using `S[i]` and `T[j]`, in order to be capable of redefining these points in the case of intersection."
   ]
  },
  {
   "cell_type": "code",
   "execution_count": 42,
   "metadata": {},
   "outputs": [],
   "source": [
    "def error_btw_trajectories(S, T):\n",
    "    i, j = 0, 0 # i (or j) is the index of the current point along S (or T)\n",
    "    si, tj = S[i], T[j]\n",
    "    plt.figure()\n",
    "    plt.plot(*S.transpose(), '-o', *T.transpose(), '-o')\n",
    "    ax = plt.gca()\n",
    "    plt.xticks(list(range(int(min(X[::,0])), int(max(X[::,0]))+1)))\n",
    "    plt.axis(\"equal\")\n",
    "    plt.grid()\n",
    "    error = 0\n",
    "    while i < len(S) - 1 and j < len(T) - 1:\n",
    "        intersect = find_intersection(si, S[i+1], tj, T[j+1])\n",
    "        if np.all(intersect): # if the segments [S_i, S_i+1] and [T_i, T_i+1] intersect\n",
    "            # Compute area of the triangle intersect, si, tj\n",
    "            error += triangle_area(si, tj, intersect)\n",
    "            si, tj = intersect, intersect\n",
    "        else:\n",
    "            if find_next_focus_point1(si, S[i+1], tj, T[j+1]):\n",
    "                old_point = si\n",
    "                si, i = S[i+1], i+1\n",
    "            else:\n",
    "                old_point = tj\n",
    "                tj, j = T[j+1], j+1\n",
    "            # Compute area of the triangle old_point, si, tj\n",
    "            error += triangle_area(old_point, si, tj, ax)\n",
    "    \n",
    "    if i == len(S) - 1:\n",
    "        for j in range(j, len(T)-1):\n",
    "            error += triangle_area(si, T[j], T[j+1], ax)\n",
    "    elif j == len(T) - 1: #else ?\n",
    "        for i in range(i, len(S)-1):\n",
    "            error += triangle_area(tj, S[i], S[i+1], ax)\n",
    "    plt.show()\n",
    "    return error"
   ]
  },
  {
   "cell_type": "code",
   "execution_count": 43,
   "metadata": {},
   "outputs": [
    {
     "name": "stdout",
     "output_type": "stream",
     "text": [
      "[test0]simple.txt\t"
     ]
    },
    {
     "data": {
      "image/png": "[encoded data removed]",
      "text/plain": [
       "<Figure size 432x288 with 1 Axes>"
      ]
     },
     "metadata": {
      "needs_background": "light"
     },
     "output_type": "display_data"
    },
    {
     "name": "stdout",
     "output_type": "stream",
     "text": [
      "ok \t The expected value is indeed 9.0\n",
      "[test1]negative.txt\t"
     ]
    },
    {
     "data": {
      "image/png": "[encoded data removed]",
      "text/plain": [
       "<Figure size 432x288 with 1 Axes>"
      ]
     },
     "metadata": {
      "needs_background": "light"
     },
     "output_type": "display_data"
    },
    {
     "name": "stdout",
     "output_type": "stream",
     "text": [
      "ok \t The expected value is indeed 10.0\n",
      "[test2]simple2.txt\t"
     ]
    },
    {
     "data": {
      "image/png": "[encoded data removed]",
      "text/plain": [
       "<Figure size 432x288 with 1 Axes>"
      ]
     },
     "metadata": {
      "needs_background": "light"
     },
     "output_type": "display_data"
    },
    {
     "name": "stdout",
     "output_type": "stream",
     "text": [
      "NOT ok \t The expected value is 29.325, but the output value is 30.325.\n"
     ]
    },
    {
     "data": {
      "text/plain": [
       "False"
      ]
     },
     "execution_count": 43,
     "metadata": {},
     "output_type": "execute_result"
    }
   ],
   "source": [
    "validator.test(error_btw_trajectories)"
   ]
  },
  {
   "cell_type": "code",
   "execution_count": null,
   "metadata": {},
   "outputs": [],
   "source": []
  }
 ],
 "metadata": {
  "kernelspec": {
   "display_name": "Python 3",
   "language": "python",
   "name": "python3"
  },
  "language_info": {
   "codemirror_mode": {
    "name": "ipython",
    "version": 3
   },
   "file_extension": ".py",
   "mimetype": "text/x-python",
   "name": "python",
   "nbconvert_exporter": "python",
   "pygments_lexer": "ipython3",
   "version": "3.7.3"
  }
 },
 "nbformat": 4,
 "nbformat_minor": 4
}
