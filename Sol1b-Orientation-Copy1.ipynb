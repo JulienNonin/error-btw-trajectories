{
 "cells": [
  {
   "cell_type": "markdown",
   "metadata": {},
   "source": [
    "# Estimating errors between two trajectories"
   ]
  },
  {
   "cell_type": "code",
   "execution_count": 3,
   "metadata": {},
   "outputs": [],
   "source": [
    "import numpy as np\n",
    "import matplotlib.pyplot as plt\n",
    "import validator as validator\n",
    "from utils import *\n",
    "from matplotlib.ticker import MaxNLocator"
   ]
  },
  {
   "cell_type": "code",
   "execution_count": 4,
   "metadata": {},
   "outputs": [],
   "source": [
    "dist, dist_to_line = distance, distance_to_line\n",
    "\n",
    "def find_next_focus_point1(p1, p2, q1, q2):\n",
    "    \"\"\"\n",
    "    The closest point (p2 or q2) to the two current points (p1 or q1)\n",
    "    Returns: True if p2 is the next focus point, False if q2\n",
    "    \"\"\"\n",
    "    return min(dist(p2, p1), dist(p2, q1)) < min(dist(q2, p1), dist(q2, q1)) #p2 is the closest point\n",
    "\n",
    "def find_next_focus_point2(p1, p2, q1, q2):\n",
    "    \"\"\"\n",
    "    The closest point (p2 or q2) to its respective point (p1 or q1)\n",
    "    \"\"\"\n",
    "    return dist(p2, p1) < dist(q2, q1) #p2 is the closest point\n",
    "    \n",
    "def find_next_focus_point3(p1, p2, q1, q2):\n",
    "    \"\"\"\n",
    "    distance between p2 (or q1) and the line (p1q1) \n",
    "    \"\"\"\n",
    "    return dist_to_line(*(p1, q1), p2) < dist_to_line(*(p1, q1), q2)\n",
    "\n",
    "\n",
    "def find_next_focus_point4(p1, p2, q1, q2, oldpoint):\n",
    "    \"\"\"\n",
    "    distance between p2 (or q1) and the line (p1q1) \n",
    "    \"\"\"\n",
    "    wrong_side = orientation(p1, q1, oldpoint)\n",
    "    if orientation(p1, q1, p2) == wrong_side:\n",
    "        return False\n",
    "    elif orientation(p1, q1, q2) == wrong_side:\n",
    "        return True\n",
    "    else:\n",
    "        return dist_to_line(*(p1, q1), p2) < dist_to_line(*(p1, q1), q2)"
   ]
  },
  {
   "cell_type": "markdown",
   "metadata": {},
   "source": [
    "### *Idea 2* -  separation of cases when changing orientation"
   ]
  },
  {
   "cell_type": "code",
   "execution_count": 13,
   "metadata": {},
   "outputs": [],
   "source": [
    "def error_btw_trajectories(S, T):\n",
    "    i, j = 0, 0 # i (or j) is the index of the current point along S (or T)\n",
    "    si, tj = S[i], T[j]\n",
    "    plt.figure()\n",
    "    plt.plot(*S.transpose(), '-o', *T.transpose(), '-o')\n",
    "    ax = plt.gca()\n",
    "    ax.xaxis.set_major_locator(MaxNLocator(integer=True))\n",
    "    ax.yaxis.set_major_locator(MaxNLocator(integer=True))\n",
    "    plt.grid()\n",
    "    error, old_point, dir_point = 0, si, (si + tj) / 2\n",
    "    while i < len(S) - 1 and j < len(T) - 1:\n",
    "#         plt.show()\n",
    "#         plt.figure()\n",
    "#         plt.plot(*S.transpose(), '-o', *T.transpose(), '-o')\n",
    "#         ax = plt.gca()\n",
    "#         ax.xaxis.set_major_locator(MaxNLocator(integer=True))\n",
    "#         ax.yaxis.set_major_locator(MaxNLocator(integer=True))\n",
    "        plt.grid()\n",
    "#         print(i, j, si, S[i+1], tj, T[j+1])\n",
    "        # 1. Check whether or not there is an intersection between the two next segments\n",
    "        intersect = intersection_btw_segs(si, S[i+1], tj, T[j+1])\n",
    "        if np.all(intersect != np.inf): # if the segments [S_i, S_i+1] and [T_i, T_i+1] intersect\n",
    "#             print(\">> Intersection\")\n",
    "            # Compute area of the triangle intersect, si, tj\n",
    "            error += triangle_area(si, tj, intersect, ax)\n",
    "            plt.plot(*intersect, 'og')\n",
    "            if find_next_focus_point3(si, S[i+1], tj, T[j+1]):\n",
    "                old_point = si\n",
    "                dir_point = (si + tj)/2 # TODO : is this a good idea ??????????\n",
    "                si, i = S[i+1], i+1\n",
    "                tj = intersect\n",
    "            else:\n",
    "                old_point = tj\n",
    "                dir_point = (si + tj)/2 # TODO : is this a good idea ??????????\n",
    "                tj, j = T[j+1], j+1\n",
    "                si = intersect\n",
    "        # If there is no intersection, we have to check the orientation of the two next points\n",
    "        else:\n",
    "            orientation_s, orientation_t = orientation(si, tj, S[i+1]), orientation(si, tj, T[j+1])\n",
    "#             print(\"orientation\", orientation_s, orientation_t)\n",
    "            if orientation_s == 0 and orientation_t == 0:\n",
    "#                 print(\"Strange ...\")\n",
    "                if find_next_focus_point3(si, S[i+1], tj, T[j+1]):\n",
    "                    old_point, dir_point = si, si\n",
    "                    si, i = S[i+1], i+1\n",
    "                else:\n",
    "                    old_point, dir_point = tj, tj\n",
    "                    tj, j = T[j+1], j+1\n",
    "            elif orientation_s == orientation_t or orientation_s == 0 or orientation_t==0:\n",
    "#                 print(\"old point\", old_point, \"dir_point\", dir_point)\n",
    "                #simple case : S[i+1] and T[j+1] are on the side of the line (si, tj)\n",
    "                if orientation_s == 0 or find_next_focus_point4(si, S[i+1], tj, T[j+1], dir_point):\n",
    "                    old_point, dir_point = si, si\n",
    "                    si, i = S[i+1], i+1\n",
    "                else:\n",
    "                    old_point, dir_point = tj, tj\n",
    "                    tj, j = T[j+1], j+1\n",
    "            else : #one point is on the \"wrong\" side of the line \n",
    "#                 print(\">> chgt d'angle\")\n",
    "                wrong_side = orientation(si, tj, dir_point) # TODO consider the case when oldpoint==si==tj\n",
    "                if wrong_side == 0:\n",
    "                    print(\"TODO ...\")\n",
    "                    input()\n",
    "                elif orientation_s == wrong_side: # we have to find the intersection between the line (si,S[i+1]) and a segment of T\n",
    "                    intersect = intersection_btw_line_seg(si, S[i+1], tj, T[j+1])\n",
    "                    if np.all(intersect == np.inf):\n",
    "                        old_point = tj\n",
    "                        tj, j = T[j+1], j+1\n",
    "                    elif np.all(intersect == - np.inf):\n",
    "                        print(\"Erreur dans l'algo A\")\n",
    "                        print(i, j, si, tj, S[i+1], T[j+1], orientation_s, orientation_t, wrong_side)\n",
    "                        input()\n",
    "                    else:\n",
    "                        old_point, tj = tj, intersect\n",
    "#                         tj = intersect\n",
    "                        error += triangle_area(old_point, si, tj, ax)\n",
    "                        si, i = S[i+1], i+1 #TODO deplacer directement le pivot si\n",
    "                        old_point = si\n",
    "                elif orientation_t == wrong_side: # we have to find the intersection between the line (si,S[i+1]) and a segment of S\n",
    "                    intersect = intersection_btw_line_seg(tj, T[j+1], si, S[i+1])\n",
    "                    if np.all(intersect == np.inf):\n",
    "                        old_point = si\n",
    "                        si, i = S[i+1], i+1\n",
    "                    elif np.all(intersect == - np.inf):\n",
    "                        print(\"Erreur dans l'algo B\")\n",
    "                        print(i, j, si, tj, S[i+1], T[j+1], orientation_s, orientation_t, wrong_side, old_point)\n",
    "                        input()\n",
    "                    else:\n",
    "                        old_point, si = si, intersect\n",
    "#                         si = intersect\n",
    "                        error += triangle_area(old_point, si, tj, ax)\n",
    "                        tj, j = T[j+1], j+1\n",
    "                        old_point = tj\n",
    "                else:\n",
    "                    print(\"There is a problem ?\")\n",
    "                    print(i, j, si, tj, S[i+1], T[j+1], orientation_s, orientation_t, wrong_side)\n",
    "                    input()\n",
    "\n",
    "            # Compute area of the triangle old_point, si, tj\n",
    "            error += triangle_area(old_point, si, tj, ax)\n",
    "#         plt.plot(*si, 'rx')\n",
    "#         plt.plot(*tj, 'rx')\n",
    "#         plt.plot(*old_point, 'kx')\n",
    "#         plt.plot(*dir_point, 'cx')\n",
    "    \n",
    "    if i == len(S) - 1:\n",
    "        error += triangle_area(si, tj, T[j+1], ax)\n",
    "        j += 1\n",
    "        for j in range(j, len(T)-1):\n",
    "            error += triangle_area(si, T[j], T[j+1], ax)\n",
    "    elif j == len(T) - 1: #else ?\n",
    "        error += triangle_area(tj, si, S[i+1], ax)\n",
    "        i += 1\n",
    "        for i in range(i, len(S)-1):\n",
    "            error += triangle_area(tj, S[i], S[i+1], ax)\n",
    "    plt.show()\n",
    "    Slen = sum(norm(S[i+1] - S[i]) for i in range(len(S) - 1))\n",
    "    return error / Slen"
   ]
  },
  {
   "cell_type": "code",
   "execution_count": 14,
   "metadata": {},
   "outputs": [
    {
     "name": "stdout",
     "output_type": "stream",
     "text": [
      "untitled1.txt\tErreur dans l'algo B\n",
      "0 2 [3. 1.] [ 5. -3.] [4. 1.] [ 1. -3.] -1 1 1 [ 5. -3.]\n"
     ]
    },
    {
     "data": {
      "image/png": "[encoded data removed]",
      "text/plain": [
       "<Figure size 432x288 with 1 Axes>"
      ]
     },
     "metadata": {
      "needs_background": "light"
     },
     "output_type": "display_data"
    },
    {
     "name": "stdout",
     "output_type": "stream",
     "text": [
      "NOT ok \t The expected value is 2.4283432403227163, but the output value is 3.156846212419531.\n",
      "\n"
     ]
    },
    {
     "data": {
      "text/plain": [
       "False"
      ]
     },
     "execution_count": 14,
     "metadata": {},
     "output_type": "execute_result"
    }
   ],
   "source": [
    "validator.test(error_btw_trajectories, samples_range = slice(14, None), dirname = \"../indoor-location-oracles/Oracles/\")"
   ]
  },
  {
   "cell_type": "code",
   "execution_count": null,
   "metadata": {},
   "outputs": [],
   "source": []
  },
  {
   "cell_type": "code",
   "execution_count": null,
   "metadata": {},
   "outputs": [],
   "source": []
  }
 ],
 "metadata": {
  "kernelspec": {
   "display_name": "Python 3",
   "language": "python",
   "name": "python3"
  },
  "language_info": {
   "codemirror_mode": {
    "name": "ipython",
    "version": 3
   },
   "file_extension": ".py",
   "mimetype": "text/x-python",
   "name": "python",
   "nbconvert_exporter": "python",
   "pygments_lexer": "ipython3",
   "version": "3.7.3"
  }
 },
 "nbformat": 4,
 "nbformat_minor": 4
}
