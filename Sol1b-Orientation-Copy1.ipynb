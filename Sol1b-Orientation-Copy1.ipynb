{
 "cells": [
  {
   "cell_type": "markdown",
   "metadata": {},
   "source": [
    "# Estimating errors between two trajectories"
   ]
  },
  {
   "cell_type": "code",
   "execution_count": 2,
   "metadata": {},
   "outputs": [],
   "source": [
    "import numpy as np\n",
    "import matplotlib.pyplot as plt\n",
    "import validator as validator\n",
    "from utils import *\n",
    "from matplotlib.ticker import MaxNLocator"
   ]
  },
  {
   "cell_type": "code",
   "execution_count": 3,
   "metadata": {},
   "outputs": [],
   "source": [
    "dist, dist_to_line = distance, distance_to_line\n",
    "\n",
    "def find_next_focus_point1(p1, p2, q1, q2):\n",
    "    \"\"\"\n",
    "    The closest point (p2 or q2) to the two current points (p1 or q1)\n",
    "    Returns: True if p2 is the next focus point, False if q2\n",
    "    \"\"\"\n",
    "    return min(dist(p2, p1), dist(p2, q1)) < min(dist(q2, p1), dist(q2, q1)) #p2 is the closest point\n",
    "\n",
    "def find_next_focus_point2(p1, p2, q1, q2):\n",
    "    \"\"\"\n",
    "    The closest point (p2 or q2) to its respective point (p1 or q1)\n",
    "    \"\"\"\n",
    "    return dist(p2, p1) < dist(q2, q1) #p2 is the closest point\n",
    "    \n",
    "def find_next_focus_point3(p1, p2, q1, q2):\n",
    "    \"\"\"\n",
    "    distance between p2 (or q1) and the line (p1q1) \n",
    "    \"\"\"\n",
    "    return dist_to_line(*(p1, q1), p2) < dist_to_line(*(p1, q1), q2)\n",
    "\n",
    "\n",
    "def find_next_focus_point4(p1, p2, q1, q2, oldpoint):\n",
    "    \"\"\"\n",
    "    distance between p2 (or q1) and the line (p1q1) \n",
    "    \"\"\"\n",
    "    wrong_side = orientation(p1, q1, oldpoint)\n",
    "    if orientation(p1, q1, p2) == wrong_side:\n",
    "        return False\n",
    "    elif orientation(p1, q1, q2) == wrong_side:\n",
    "        return True\n",
    "    else:\n",
    "        return dist_to_line(*(p1, q1), p2) < dist_to_line(*(p1, q1), q2)"
   ]
  },
  {
   "cell_type": "code",
   "execution_count": null,
   "metadata": {},
   "outputs": [],
   "source": [
    "find_intersections(A, B):\n",
    "    S, T = [], []\n",
    "    for i in range(len(A)):\n",
    "        for j in range(i, len(B)):\n",
    "            "
   ]
  },
  {
   "cell_type": "markdown",
   "metadata": {},
   "source": [
    "### *Idea 2* -  separation of cases when changing orientation"
   ]
  },
  {
   "cell_type": "code",
   "execution_count": 3,
   "metadata": {},
   "outputs": [],
   "source": [
    "def error_btw_trajectories(S, T):\n",
    "    i, j = 0, 0 # i (or j) is the index of the current point along S (or T)\n",
    "    si, tj = S[i], T[j]\n",
    "    plt.figure()\n",
    "    plt.plot(*S.transpose(), '-o', *T.transpose(), '-o')\n",
    "    ax = plt.gca()\n",
    "    ax.xaxis.set_major_locator(MaxNLocator(integer=True))\n",
    "    ax.yaxis.set_major_locator(MaxNLocator(integer=True))\n",
    "    plt.grid()\n",
    "    error, old_point, dir_point = 0, si, (si + tj) / 2\n",
    "    plt.axis(\"equal\")\n",
    "    while i < len(S) - 1 and j < len(T) - 1:\n",
    "#         plt.show()\n",
    "#         plt.figure()\n",
    "#         plt.plot(*S.transpose(), '-o', *T.transpose(), '-o')\n",
    "#         ax = plt.gca()\n",
    "#         ax.xaxis.set_major_locator(MaxNLocator(integer=True))\n",
    "#         ax.yaxis.set_major_locator(MaxNLocator(integer=True))\n",
    "        plt.grid()\n",
    "#         print(i, j, si, S[i+1], tj, T[j+1])\n",
    "        # 1. Check whether or not there is an intersection between the two next segments\n",
    "        intersect = intersection_btw_segs(si, S[i+1], tj, T[j+1])\n",
    "        if np.all(intersect != np.inf): # if the segments [S_i, S_i+1] and [T_i, T_i+1] intersect\n",
    "#             print(\">> Intersection\")\n",
    "            # Compute area of the triangle intersect, si, tj\n",
    "            error += triangle_area(si, tj, intersect, ax)\n",
    "            plt.plot(*intersect, 'og')\n",
    "            if find_next_focus_point1(si, S[i+1], tj, T[j+1]):\n",
    "                old_point = si\n",
    "                dir_point = (si + tj)/2 # TODO : is this a good idea ??????????\n",
    "                si, i = S[i+1], i+1\n",
    "                tj = intersect\n",
    "            else:\n",
    "                old_point = tj\n",
    "                dir_point = (si + tj)/2 # TODO : is this a good idea ??????????\n",
    "                tj, j = T[j+1], j+1\n",
    "                si = intersect\n",
    "        # If there is no intersection, we have to check the orientation of the two next points\n",
    "        else:\n",
    "            orientation_s, orientation_t = orientation(si, tj, S[i+1]), orientation(si, tj, T[j+1])\n",
    "#             print(\"orientation\", orientation_s, orientation_t)\n",
    "            if orientation_s == 0 and orientation_t == 0:\n",
    "#                 print(\"Strange ...\")\n",
    "                if find_next_focus_point2(si, S[i+1], tj, T[j+1]):\n",
    "                    old_point, dir_point = si, si\n",
    "                    si, i = S[i+1], i+1\n",
    "                else:\n",
    "                    old_point, dir_point = tj, tj\n",
    "                    tj, j = T[j+1], j+1\n",
    "            elif orientation_s == orientation_t or orientation_s == 0 or orientation_t==0:\n",
    "#                 print(\"old point\", old_point, \"dir_point\", dir_point)\n",
    "                #simple case : S[i+1] and T[j+1] are on the side of the line (si, tj)\n",
    "                if orientation_s == 0 or find_next_focus_point4(si, S[i+1], tj, T[j+1], old_point):\n",
    "                    old_point, dir_point = si, si\n",
    "                    si, i = S[i+1], i+1\n",
    "                else:\n",
    "                    old_point, dir_point = tj, tj\n",
    "                    tj, j = T[j+1], j+1\n",
    "            else : #one point is on the \"wrong\" side of the line \n",
    "#                 print(\">> chgt d'angle\")\n",
    "                wrong_side = orientation(si, tj, dir_point) # TODO consider the case when oldpoint==si==tj\n",
    "                if wrong_side == 0:\n",
    "                    print(\"TODO ...\")\n",
    "                    input()\n",
    "                elif orientation_s == wrong_side: # we have to find the intersection between the line (si,S[i+1]) and a segment of T\n",
    "                    intersect = intersection_btw_line_seg(si, S[i+1], tj, T[j+1])\n",
    "                    if np.all(intersect == np.inf):\n",
    "                        old_point = tj\n",
    "                        tj, j = T[j+1], j+1\n",
    "                    elif np.all(intersect == - np.inf):\n",
    "                        print(\"Erreur dans l'algo A\")\n",
    "                        print(i, j, si, tj, S[i+1], T[j+1], orientation_s, orientation_t, wrong_side)\n",
    "                        input()\n",
    "                    else:\n",
    "                        old_point, tj = tj, intersect\n",
    "#                         tj = intersect\n",
    "                        error += triangle_area(old_point, si, tj, ax)\n",
    "                        si, i = S[i+1], i+1 #TODO deplacer directement le pivot si\n",
    "                        old_point = si\n",
    "                elif orientation_t == wrong_side: # we have to find the intersection between the line (si,S[i+1]) and a segment of S\n",
    "                    intersect = intersection_btw_line_seg(tj, T[j+1], si, S[i+1])\n",
    "                    if np.all(intersect == np.inf):\n",
    "                        old_point = si\n",
    "                        si, i = S[i+1], i+1\n",
    "                    elif np.all(intersect == - np.inf):\n",
    "                        print(\"Erreur dans l'algo B\")\n",
    "                        print(i, j, si, tj, S[i+1], T[j+1], orientation_s, orientation_t, wrong_side, old_point)\n",
    "                        input()\n",
    "                    else:\n",
    "                        old_point, si = si, intersect\n",
    "#                         si = intersect\n",
    "                        error += triangle_area(old_point, si, tj, ax)\n",
    "                        tj, j = T[j+1], j+1\n",
    "                        old_point = tj\n",
    "                else:\n",
    "                    print(\"There is a problem ?\")\n",
    "                    print(i, j, si, tj, S[i+1], T[j+1], orientation_s, orientation_t, wrong_side)\n",
    "                    input()\n",
    "\n",
    "            # Compute area of the triangle old_point, si, tj\n",
    "            error += triangle_area(old_point, si, tj, ax)\n",
    "#         plt.plot(*si, 'rx')\n",
    "#         plt.plot(*tj, 'rx')\n",
    "#         plt.plot(*old_point, 'kx')\n",
    "#         plt.plot(*dir_point, 'cx')\n",
    "    \n",
    "    if i == len(S) - 1:\n",
    "        error += triangle_area(si, tj, T[j+1], ax)\n",
    "        j += 1\n",
    "        for j in range(j, len(T)-1):\n",
    "            error += triangle_area(si, T[j], T[j+1], ax)\n",
    "    elif j == len(T) - 1: #else ?\n",
    "        error += triangle_area(tj, si, S[i+1], ax)\n",
    "        i += 1\n",
    "        for i in range(i, len(S)-1):\n",
    "            error += triangle_area(tj, S[i], S[i+1], ax)\n",
    "    plt.show()\n",
    "    Slen = sum(norm(S[i+1] - S[i]) for i in range(len(S) - 1))\n",
    "    return error / Slen"
   ]
  },
  {
   "cell_type": "code",
   "execution_count": 4,
   "metadata": {},
   "outputs": [
    {
     "name": "stdout",
     "output_type": "stream",
     "text": [
      "test13.txt\tTODO ...\n"
     ]
    },
    {
     "ename": "KeyboardInterrupt",
     "evalue": "",
     "output_type": "error",
     "traceback": [
      "\u001b[0;31m---------------------------------------------------------------------------\u001b[0m",
      "\u001b[0;31mKeyboardInterrupt\u001b[0m                         Traceback (most recent call last)",
      "\u001b[0;32m~/anaconda3/lib/python3.7/site-packages/ipykernel/kernelbase.py\u001b[0m in \u001b[0;36m_input_request\u001b[0;34m(self, prompt, ident, parent, password)\u001b[0m\n\u001b[1;32m    884\u001b[0m             \u001b[0;32mtry\u001b[0m\u001b[0;34m:\u001b[0m\u001b[0;34m\u001b[0m\u001b[0;34m\u001b[0m\u001b[0m\n\u001b[0;32m--> 885\u001b[0;31m                 \u001b[0mident\u001b[0m\u001b[0;34m,\u001b[0m \u001b[0mreply\u001b[0m \u001b[0;34m=\u001b[0m \u001b[0mself\u001b[0m\u001b[0;34m.\u001b[0m\u001b[0msession\u001b[0m\u001b[0;34m.\u001b[0m\u001b[0mrecv\u001b[0m\u001b[0;34m(\u001b[0m\u001b[0mself\u001b[0m\u001b[0;34m.\u001b[0m\u001b[0mstdin_socket\u001b[0m\u001b[0;34m,\u001b[0m \u001b[0;36m0\u001b[0m\u001b[0;34m)\u001b[0m\u001b[0;34m\u001b[0m\u001b[0;34m\u001b[0m\u001b[0m\n\u001b[0m\u001b[1;32m    886\u001b[0m             \u001b[0;32mexcept\u001b[0m \u001b[0mException\u001b[0m\u001b[0;34m:\u001b[0m\u001b[0;34m\u001b[0m\u001b[0;34m\u001b[0m\u001b[0m\n",
      "\u001b[0;32m~/anaconda3/lib/python3.7/site-packages/jupyter_client/session.py\u001b[0m in \u001b[0;36mrecv\u001b[0;34m(self, socket, mode, content, copy)\u001b[0m\n\u001b[1;32m    802\u001b[0m         \u001b[0;32mtry\u001b[0m\u001b[0;34m:\u001b[0m\u001b[0;34m\u001b[0m\u001b[0;34m\u001b[0m\u001b[0m\n\u001b[0;32m--> 803\u001b[0;31m             \u001b[0mmsg_list\u001b[0m \u001b[0;34m=\u001b[0m \u001b[0msocket\u001b[0m\u001b[0;34m.\u001b[0m\u001b[0mrecv_multipart\u001b[0m\u001b[0;34m(\u001b[0m\u001b[0mmode\u001b[0m\u001b[0;34m,\u001b[0m \u001b[0mcopy\u001b[0m\u001b[0;34m=\u001b[0m\u001b[0mcopy\u001b[0m\u001b[0;34m)\u001b[0m\u001b[0;34m\u001b[0m\u001b[0;34m\u001b[0m\u001b[0m\n\u001b[0m\u001b[1;32m    804\u001b[0m         \u001b[0;32mexcept\u001b[0m \u001b[0mzmq\u001b[0m\u001b[0;34m.\u001b[0m\u001b[0mZMQError\u001b[0m \u001b[0;32mas\u001b[0m \u001b[0me\u001b[0m\u001b[0;34m:\u001b[0m\u001b[0;34m\u001b[0m\u001b[0;34m\u001b[0m\u001b[0m\n",
      "\u001b[0;32m~/anaconda3/lib/python3.7/site-packages/zmq/sugar/socket.py\u001b[0m in \u001b[0;36mrecv_multipart\u001b[0;34m(self, flags, copy, track)\u001b[0m\n\u001b[1;32m    469\u001b[0m         \"\"\"\n\u001b[0;32m--> 470\u001b[0;31m         \u001b[0mparts\u001b[0m \u001b[0;34m=\u001b[0m \u001b[0;34m[\u001b[0m\u001b[0mself\u001b[0m\u001b[0;34m.\u001b[0m\u001b[0mrecv\u001b[0m\u001b[0;34m(\u001b[0m\u001b[0mflags\u001b[0m\u001b[0;34m,\u001b[0m \u001b[0mcopy\u001b[0m\u001b[0;34m=\u001b[0m\u001b[0mcopy\u001b[0m\u001b[0;34m,\u001b[0m \u001b[0mtrack\u001b[0m\u001b[0;34m=\u001b[0m\u001b[0mtrack\u001b[0m\u001b[0;34m)\u001b[0m\u001b[0;34m]\u001b[0m\u001b[0;34m\u001b[0m\u001b[0;34m\u001b[0m\u001b[0m\n\u001b[0m\u001b[1;32m    471\u001b[0m         \u001b[0;31m# have first part already, only loop while more to receive\u001b[0m\u001b[0;34m\u001b[0m\u001b[0;34m\u001b[0m\u001b[0;34m\u001b[0m\u001b[0m\n",
      "\u001b[0;32mzmq/backend/cython/socket.pyx\u001b[0m in \u001b[0;36mzmq.backend.cython.socket.Socket.recv\u001b[0;34m()\u001b[0m\n",
      "\u001b[0;32mzmq/backend/cython/socket.pyx\u001b[0m in \u001b[0;36mzmq.backend.cython.socket.Socket.recv\u001b[0;34m()\u001b[0m\n",
      "\u001b[0;32mzmq/backend/cython/socket.pyx\u001b[0m in \u001b[0;36mzmq.backend.cython.socket._recv_copy\u001b[0;34m()\u001b[0m\n",
      "\u001b[0;32m~/anaconda3/lib/python3.7/site-packages/zmq/backend/cython/checkrc.pxd\u001b[0m in \u001b[0;36mzmq.backend.cython.checkrc._check_rc\u001b[0;34m()\u001b[0m\n",
      "\u001b[0;31mKeyboardInterrupt\u001b[0m: ",
      "\nDuring handling of the above exception, another exception occurred:\n",
      "\u001b[0;31mKeyboardInterrupt\u001b[0m                         Traceback (most recent call last)",
      "\u001b[0;32m<ipython-input-4-d7a783361ebc>\u001b[0m in \u001b[0;36m<module>\u001b[0;34m\u001b[0m\n\u001b[0;32m----> 1\u001b[0;31m \u001b[0mvalidator\u001b[0m\u001b[0;34m.\u001b[0m\u001b[0mtest\u001b[0m\u001b[0;34m(\u001b[0m\u001b[0merror_btw_trajectories\u001b[0m\u001b[0;34m,\u001b[0m \u001b[0msamples_range\u001b[0m \u001b[0;34m=\u001b[0m \u001b[0mslice\u001b[0m\u001b[0;34m(\u001b[0m\u001b[0;36m5\u001b[0m\u001b[0;34m,\u001b[0m \u001b[0;32mNone\u001b[0m\u001b[0;34m)\u001b[0m\u001b[0;34m,\u001b[0m \u001b[0mdirname\u001b[0m \u001b[0;34m=\u001b[0m \u001b[0;34m\"test/\"\u001b[0m\u001b[0;34m)\u001b[0m\u001b[0;34m\u001b[0m\u001b[0;34m\u001b[0m\u001b[0m\n\u001b[0m",
      "\u001b[0;32m~/Documents/M1/CSintro/err_btw_trajectories/validator.py\u001b[0m in \u001b[0;36mtest\u001b[0;34m(estimator, samples_range, display, dirname)\u001b[0m\n\u001b[1;32m     38\u001b[0m \u001b[0;34m\u001b[0m\u001b[0m\n\u001b[1;32m     39\u001b[0m         \u001b[0;31m# Compute the error estimate algorithm\u001b[0m\u001b[0;34m\u001b[0m\u001b[0;34m\u001b[0m\u001b[0;34m\u001b[0m\u001b[0m\n\u001b[0;32m---> 40\u001b[0;31m         \u001b[0mres\u001b[0m \u001b[0;34m=\u001b[0m \u001b[0mestimator\u001b[0m\u001b[0;34m(\u001b[0m\u001b[0mX\u001b[0m\u001b[0;34m,\u001b[0m \u001b[0mY\u001b[0m\u001b[0;34m)\u001b[0m\u001b[0;34m\u001b[0m\u001b[0;34m\u001b[0m\u001b[0m\n\u001b[0m\u001b[1;32m     41\u001b[0m \u001b[0;34m\u001b[0m\u001b[0m\n\u001b[1;32m     42\u001b[0m         \u001b[0;31m# Plotting trajectories\u001b[0m\u001b[0;34m\u001b[0m\u001b[0;34m\u001b[0m\u001b[0;34m\u001b[0m\u001b[0m\n",
      "\u001b[0;32m<ipython-input-3-1cf2cd6b8049>\u001b[0m in \u001b[0;36merror_btw_trajectories\u001b[0;34m(S, T)\u001b[0m\n\u001b[1;32m     62\u001b[0m                 \u001b[0;32mif\u001b[0m \u001b[0mwrong_side\u001b[0m \u001b[0;34m==\u001b[0m \u001b[0;36m0\u001b[0m\u001b[0;34m:\u001b[0m\u001b[0;34m\u001b[0m\u001b[0;34m\u001b[0m\u001b[0m\n\u001b[1;32m     63\u001b[0m                     \u001b[0mprint\u001b[0m\u001b[0;34m(\u001b[0m\u001b[0;34m\"TODO ...\"\u001b[0m\u001b[0;34m)\u001b[0m\u001b[0;34m\u001b[0m\u001b[0;34m\u001b[0m\u001b[0m\n\u001b[0;32m---> 64\u001b[0;31m                     \u001b[0minput\u001b[0m\u001b[0;34m(\u001b[0m\u001b[0;34m)\u001b[0m\u001b[0;34m\u001b[0m\u001b[0;34m\u001b[0m\u001b[0m\n\u001b[0m\u001b[1;32m     65\u001b[0m                 \u001b[0;32melif\u001b[0m \u001b[0morientation_s\u001b[0m \u001b[0;34m==\u001b[0m \u001b[0mwrong_side\u001b[0m\u001b[0;34m:\u001b[0m \u001b[0;31m# we have to find the intersection between the line (si,S[i+1]) and a segment of T\u001b[0m\u001b[0;34m\u001b[0m\u001b[0;34m\u001b[0m\u001b[0m\n\u001b[1;32m     66\u001b[0m                     \u001b[0mintersect\u001b[0m \u001b[0;34m=\u001b[0m \u001b[0mintersection_btw_line_seg\u001b[0m\u001b[0;34m(\u001b[0m\u001b[0msi\u001b[0m\u001b[0;34m,\u001b[0m \u001b[0mS\u001b[0m\u001b[0;34m[\u001b[0m\u001b[0mi\u001b[0m\u001b[0;34m+\u001b[0m\u001b[0;36m1\u001b[0m\u001b[0;34m]\u001b[0m\u001b[0;34m,\u001b[0m \u001b[0mtj\u001b[0m\u001b[0;34m,\u001b[0m \u001b[0mT\u001b[0m\u001b[0;34m[\u001b[0m\u001b[0mj\u001b[0m\u001b[0;34m+\u001b[0m\u001b[0;36m1\u001b[0m\u001b[0;34m]\u001b[0m\u001b[0;34m)\u001b[0m\u001b[0;34m\u001b[0m\u001b[0;34m\u001b[0m\u001b[0m\n",
      "\u001b[0;32m~/anaconda3/lib/python3.7/site-packages/ipykernel/kernelbase.py\u001b[0m in \u001b[0;36mraw_input\u001b[0;34m(self, prompt)\u001b[0m\n\u001b[1;32m    858\u001b[0m             \u001b[0mself\u001b[0m\u001b[0;34m.\u001b[0m\u001b[0m_parent_ident\u001b[0m\u001b[0;34m,\u001b[0m\u001b[0;34m\u001b[0m\u001b[0;34m\u001b[0m\u001b[0m\n\u001b[1;32m    859\u001b[0m             \u001b[0mself\u001b[0m\u001b[0;34m.\u001b[0m\u001b[0m_parent_header\u001b[0m\u001b[0;34m,\u001b[0m\u001b[0;34m\u001b[0m\u001b[0;34m\u001b[0m\u001b[0m\n\u001b[0;32m--> 860\u001b[0;31m             \u001b[0mpassword\u001b[0m\u001b[0;34m=\u001b[0m\u001b[0;32mFalse\u001b[0m\u001b[0;34m,\u001b[0m\u001b[0;34m\u001b[0m\u001b[0;34m\u001b[0m\u001b[0m\n\u001b[0m\u001b[1;32m    861\u001b[0m         )\n\u001b[1;32m    862\u001b[0m \u001b[0;34m\u001b[0m\u001b[0m\n",
      "\u001b[0;32m~/anaconda3/lib/python3.7/site-packages/ipykernel/kernelbase.py\u001b[0m in \u001b[0;36m_input_request\u001b[0;34m(self, prompt, ident, parent, password)\u001b[0m\n\u001b[1;32m    888\u001b[0m             \u001b[0;32mexcept\u001b[0m \u001b[0mKeyboardInterrupt\u001b[0m\u001b[0;34m:\u001b[0m\u001b[0;34m\u001b[0m\u001b[0;34m\u001b[0m\u001b[0m\n\u001b[1;32m    889\u001b[0m                 \u001b[0;31m# re-raise KeyboardInterrupt, to truncate traceback\u001b[0m\u001b[0;34m\u001b[0m\u001b[0;34m\u001b[0m\u001b[0;34m\u001b[0m\u001b[0m\n\u001b[0;32m--> 890\u001b[0;31m                 \u001b[0;32mraise\u001b[0m \u001b[0mKeyboardInterrupt\u001b[0m\u001b[0;34m\u001b[0m\u001b[0;34m\u001b[0m\u001b[0m\n\u001b[0m\u001b[1;32m    891\u001b[0m             \u001b[0;32melse\u001b[0m\u001b[0;34m:\u001b[0m\u001b[0;34m\u001b[0m\u001b[0;34m\u001b[0m\u001b[0m\n\u001b[1;32m    892\u001b[0m                 \u001b[0;32mbreak\u001b[0m\u001b[0;34m\u001b[0m\u001b[0;34m\u001b[0m\u001b[0m\n",
      "\u001b[0;31mKeyboardInterrupt\u001b[0m: "
     ]
    },
    {
     "data": {
      "image/png": "[encoded data removed]",
      "text/plain": [
       "<Figure size 432x288 with 1 Axes>"
      ]
     },
     "metadata": {
      "needs_background": "light"
     },
     "output_type": "display_data"
    }
   ],
   "source": [
    "validator.test(error_btw_trajectories, samples_range = slice(5, None), dirname = \"test/\")"
   ]
  },
  {
   "cell_type": "markdown",
   "metadata": {},
   "source": [
    "### Unittesting"
   ]
  },
  {
   "cell_type": "code",
   "execution_count": 4,
   "metadata": {},
   "outputs": [],
   "source": [
    "import unittest\n",
    "from os import listdir"
   ]
  },
  {
   "cell_type": "code",
   "execution_count": 5,
   "metadata": {},
   "outputs": [],
   "source": [
    "def fetch_test_data(dirname, correct = True, criterion = '.txt', sep = ',', samples = slice(0, None)):\n",
    "    \"\"\"\n",
    "    >>> fetch_test_data(\"../indoor-location-oracles/Oracles/CorrectInputTrajectories/\")[0]\n",
    "    ['10_parallelTrajectories.txt', array([[1., 1.],\n",
    "           [3., 1.]]), array([[1., 2.],\n",
    "           [3., 2.]]), 1.0, 0.001]\n",
    "    >>> fetch_test_data(\"../indoor-location-oracles/Oracles/IncorrectInputTrajectories/\", False)[2]\n",
    "    [array([[0., 0.],\n",
    "           [1., 0.]]), array([], dtype=float64)]\n",
    "    >>> fetch_test_data(\"../indoor-location-oracles/Oracles/IncorrectInputTrajectories/\", False)[1]\n",
    "    [array([[0., 1.]]), array([], dtype=float64)]\n",
    "    \"\"\"\n",
    "    test_file_names = [filename for filename in listdir(dirname) if criterion in filename]\n",
    "    tests_sample = []\n",
    "    for filename in sorted(test_file_names)[samples]:\n",
    "        with open(dirname + filename, \"r\") as file:\n",
    "            lines = file.read().splitlines() # getting rid of \\n\n",
    "            data = [[float(n) for n in line.split(sep) if n] for line in lines] # parse data\n",
    "        \n",
    "        reference = np.array(list(zip(data[0], data[1]))) # line 0 : x-axis of the reference trajectory, line 1 : y-axis\n",
    "        acquired = np.array(list(zip(data[2], data[3])))  # line 2 : x-axis of the acquired trajectory, line 3 : y-axis\n",
    "        if correct:\n",
    "            expected_output, = data[4] or [-1]\n",
    "            epsilon, = data[5] or [-1]\n",
    "            tests_sample.append([filename, reference, acquired, expected_output, epsilon])\n",
    "        else:\n",
    "            tests_sample.append([reference, acquired])\n",
    "    return tests_sample\n",
    "\n",
    "if __name__ == \"__main__\":\n",
    "    doctest.testmod()"
   ]
  },
  {
   "cell_type": "code",
   "execution_count": 6,
   "metadata": {},
   "outputs": [],
   "source": [
    "class TestEstimator(unittest.TestCase):\n",
    "    \n",
    "    def test_incorrect_input(self):\n",
    "        dirname = \"../indoor-location-oracles/Oracles/IncorrectInputTrajectories/\"\n",
    "        for reference, acquired in fetch_test_data(dirname, correct = False):\n",
    "            with self.assertRaises(AssertionError):\n",
    "                error_btw_trajectories(reference, acquired)\n",
    "    \n",
    "    def test_correct_input(self):\n",
    "        dirname = \"../indoor-location-oracles/Oracles/CorrectInputTrajectories/\"\n",
    "        for filename, reference, acquired, expected_output, epsilon \\\n",
    "         in fetch_test_data(dirname, samples = slice(0,None)):\n",
    "            output = error_btw_trajectories(reference, acquired)\n",
    "\n",
    "            with self.subTest(test = filename, output = output, expected_output = expected_output):\n",
    "                self.assertLessEqual(abs(expected_output - output), epsilon)"
   ]
  },
  {
   "cell_type": "code",
   "execution_count": null,
   "metadata": {},
   "outputs": [],
   "source": [
    "suite = unittest.TestLoader().loadTestsFromTestCase(TestEstimator)\n",
    "unittest.TextTestRunner().run(suite)"
   ]
  }
 ],
 "metadata": {
  "kernelspec": {
   "display_name": "Python 3",
   "language": "python",
   "name": "python3"
  },
  "language_info": {
   "codemirror_mode": {
    "name": "ipython",
    "version": 3
   },
   "file_extension": ".py",
   "mimetype": "text/x-python",
   "name": "python",
   "nbconvert_exporter": "python",
   "pygments_lexer": "ipython3",
   "version": "3.7.3"
  }
 },
 "nbformat": 4,
 "nbformat_minor": 4
}
