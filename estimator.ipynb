{
 "cells": [
  {
   "cell_type": "code",
   "execution_count": null,
   "metadata": {},
   "outputs": [],
   "source": [
    "import numpy as np\n",
    "import matplotlib.pyplot as plt\n",
    "from matplotlib.ticker import MaxNLocator"
   ]
  },
  {
   "cell_type": "code",
   "execution_count": null,
   "metadata": {},
   "outputs": [],
   "source": [
    "class Point:\n",
    "    def __init__(self, x, y):\n",
    "        self.x = x\n",
    "        self.y = y\n",
    "\n",
    "    def __repr__(self):\n",
    "        return f\"Point({self.x}, {self.y})\"\n",
    "    \n",
    "    def __str__(self):\n",
    "        return f\"⟨{self.x}, {self.y}⟩\"\n",
    "    \n",
    "    def __eq__(self, point):\n",
    "        return self.x == point.x and self.y == point.y\n",
    "    \n",
    "    def coordinates(self):\n",
    "        return [self.x, self.y]\n",
    "    \n",
    "    def distance(self, point):\n",
    "        \"\"\"\n",
    "        >>> np.round(Point(-8, 9 ).distance(Point( 0, 0)), 2)\n",
    "        12.04\n",
    "        >>> np.round(Point(10, 20).distance(Point(-4, 5)), 2)\n",
    "        20.52\n",
    "        >>> np.round(Point(-3, 5 ).distance(Point(-3, 5)), 2)\n",
    "        0.0\n",
    "        \"\"\"\n",
    "        return np.sqrt((self.x - point.x)**2 + (self.y - point.y)**2)"
   ]
  },
  {
   "cell_type": "code",
   "execution_count": null,
   "metadata": {},
   "outputs": [],
   "source": [
    "class Vector:\n",
    "    def __init__(self, anchor, endpoint):\n",
    "        self.x = endpoint.x - anchor.x\n",
    "        self.y = endpoint.y - anchor.y\n",
    "            \n",
    "    def __add__(self, point):\n",
    "        return Point(self.x + point.x, self.y + point.y)\n",
    "    \n",
    "    def __neg__(self):\n",
    "        return Point(-self.x, -self.y)\n",
    "    \n",
    "    def __sub__(self, point):\n",
    "        return self + (-point)\n",
    "    \n",
    "    def __repr__(self):\n",
    "        return f\"Vector({self.x}, {self.y})\"\n",
    "    \n",
    "    def __str__(self):\n",
    "        return f\"{{{self.x}, {self.y}}}\"\n",
    "    \n",
    "    def scalar(self, vector):\n",
    "        return self.x * vector.x + self.y * vector.y\n",
    "    \n",
    "    def is_colinear(self, vector):\n",
    "        return self.x * vector.y - vector.x * self.y == 0\n",
    "    \n",
    "#     def toArray(self):\n",
    "#         return np.array([self.x, self.y])"
   ]
  },
  {
   "cell_type": "code",
   "execution_count": null,
   "metadata": {},
   "outputs": [],
   "source": [
    "class LineSegment:\n",
    "    def __init__(self, anchor, endpoint):\n",
    "        self.anchor = anchor\n",
    "        self.endpoint = endpoint\n",
    "        \n",
    "    def __repr__(self):\n",
    "        return f\"Ray({repr(self.anchor)}, {repr(self.endpoint)})\"\n",
    "    \n",
    "    def __str__(self):\n",
    "        return f\"[{str(self.anchor)}⋯{str(self.endpoint)}]\"\n",
    "    \n",
    "    def display(self, color='teal'):\n",
    "        plt.plot([self.anchor.x, self.endpoint.x], [self.anchor.y, self.endpoint.y], 'o--', color=color)\n",
    "    \n",
    "    def contains(self, point):\n",
    "        \"\"\"\n",
    "        >>> LineSegment(Point(1, -2), Point(2, 0)).contains(Point(5, 6)) # working test\n",
    "        False\n",
    "        >>> LineSegment(Point(1, 0), Point(2, -1)).contains(Point(3, 1)) # working test\n",
    "        False\n",
    "        >>> LineSegment(Point(5, -1), Point(5, 4)).contains(Point(5, 0)) # vertical\n",
    "        True\n",
    "        \"\"\"\n",
    "        vec_a = Vector(self.anchor, self.endpoint)\n",
    "        vec_b = Vector(self.anchor, point)\n",
    "        return vec_a.is_colinear(vec_b) and 0 <= vec_a.scalar(vec_b) <= vec_a.scalar(vec_a)\n",
    "    \n",
    "    def line_equation_coeffs(self):\n",
    "        \"\"\"ax + by = c\n",
    "    \n",
    "        N.B. if (a, b, c) is a solution then λ(a, b, c) is also a solution\n",
    "        >>> LineSegment(Point(3, 3), Point(2, 0)).line_equation_coeffs() # working test\n",
    "        (-3, 1, -6)\n",
    "        >>> LineSegment(Point(1, 2), Point(3, 2)).line_equation_coeffs() # a = 0\n",
    "        (0, -2, -4)\n",
    "        >>> LineSegment(Point(0, 0), Point(1, 3)).line_equation_coeffs() # c = 0\n",
    "        (3, -1, 0)\n",
    "        >>> LineSegment(Point(2, 2), Point(2, -1)).line_equation_coeffs()# b = 0\n",
    "        (-3, 0, -6)\n",
    "        \"\"\"\n",
    "        a = self.endpoint.y - self.anchor.y\n",
    "        b = self.anchor.x - self.endpoint.x\n",
    "        c = b * self.anchor.y + a * self.anchor.x\n",
    "        return a, b, c\n",
    "    \n",
    "    def distance(self, point):\n",
    "        \"\"\"\n",
    "        >>> np.round(LineSegment(Point(-1, 2), Point(2, 3)).distance(Point(1, 1)), 2) # working test\n",
    "        1.58\n",
    "        >>> np.round(LineSegment(Point(0, 1), Point(0, 3)).distance(Point(-1, 0)), 2) # vertical line\n",
    "        1.0\n",
    "        \"\"\"\n",
    "        a, b, c = self.line_equation_coeffs()\n",
    "        return abs(b * point.y + a * point.x - c) / np.hypot(a, b)\n",
    "    \n",
    "    def intersects(self, seg):\n",
    "        \"\"\"\n",
    "        Find intersection point between two segment lines : self & segment\n",
    "\n",
    "        Parameters :\n",
    "            - p1, p2, q1, q2 : np.ndarrays of shape (2,)\n",
    "        Returns : the coordinates of the intersection points,  \n",
    "            if the line segments intersect\n",
    "\n",
    "        [TODO] Manage the case where the matrix is singular\n",
    "\n",
    "        >>> LineSegment(Point(-2, 2), Point(3, 4)).intersects(LineSegment(Point(1, 5), Point(1, 2))) # [p1, p2] and ]q1, q2[ intersect\n",
    "        Point(1.0, 3.2)\n",
    "        >>> LineSegment(Point(1, 2), Point(4, 2)).intersects(LineSegment(Point(-2, 3), Point(-2, 1))) # (p1, p2) and ]q1, q2[ intersect but not [p1, p2] and ]q1, q2[\n",
    "        >>> LineSegment(Point(2, 3), Point(2, 0)).intersects(LineSegment(Point(2, 2), Point(2, 1))) # colinear\n",
    "        >>> LineSegment(Point(2, 3), Point(2, 0)).intersects(LineSegment(Point(1, 2), Point(1, -1))) # parallel\n",
    "        \"\"\"\n",
    "        p1x, p1y = self.anchor.x, self.anchor.y\n",
    "        p2x, p2y = self.endpoint.x, self.endpoint.y\n",
    "        q1x, q1y = seg.anchor.x, seg.anchor.y\n",
    "        q2x, q2y = seg.endpoint.x, seg.endpoint.y\n",
    "        a = np.array([[q2x - q1x, p1x - p2x],\n",
    "                      [q2y - q1y, p1y - p2y]])\n",
    "        if np.linalg.det(a): # if a is invertible (if lines intersect)\n",
    "            b = np.array([p1x - q1x, p1y - q1y])\n",
    "            t = np.linalg.solve(a,b)\n",
    "            if np.all(0 < t) and np.all(t < 1): # segments intersect\n",
    "                intersection = Point(p1x + t[1] * (p2x - p1x), p1y + t[1] * (p2y - p1y))\n",
    "                return intersection\n",
    "        return None\n",
    "    \n",
    "    def single_split(self, point):\n",
    "        \"\"\"point : instance of Point\"\"\"\n",
    "        if self.contains(point):\n",
    "            return LineSegment(self.anchor, point), LineSegment(point, self.endpoint)\n",
    "    \n",
    "    def split(self, points):\n",
    "        \"\"\"points : list of Points\"\"\"\n",
    "        sorted_points = sorted(points, key = lambda p : p.distance(self.anchor))\n",
    "        seg_last = self\n",
    "        new_segments = []\n",
    "        for point in sorted_points:\n",
    "            seg_first, seg_last = seg_last.single_split(point)\n",
    "            new_segments.append(seg_first)\n",
    "        new_segments.append(seg_last)\n",
    "        return new_segments\n",
    "    \n",
    "#     def toVector(self):\n",
    "#         return Vector(self.anchor, self.endpoint)"
   ]
  },
  {
   "cell_type": "code",
   "execution_count": null,
   "metadata": {},
   "outputs": [],
   "source": [
    "class Trajectory():\n",
    "    def __init__(self, P : [Point]):\n",
    "        self.points = P\n",
    "    \n",
    "    def get_line_segments(self):\n",
    "        return [LineSegment(self.points[i], self.points[i+1]) for i in range(len(self.points) - 1)]\n",
    "    \n",
    "    def add_points(self, new_points):\n",
    "        self.points.extend(new_points)\n",
    "        \n",
    "    def __repr__(self):\n",
    "        return f\"Trajectory({self.points})\"\n",
    "\n",
    "    def __str__(self):\n",
    "        return \"Ŧ[\" + \", \".join([str(point) for point in self.points]) + \"]\"\n",
    "    \n",
    "    def __len__(self):\n",
    "        return len(self.points)\n",
    "    \n",
    "    def display(self, color = 'C0'):\n",
    "        for segment in self.get_line_segments():\n",
    "            segment.display(color)\n",
    "    \n",
    "    def add_intersection_points(self, traj):\n",
    "        new_traj = Trajectory([])\n",
    "        intersections = []\n",
    "        for segment in self.get_line_segments():\n",
    "            intersection_points = []\n",
    "            for traj_segment in traj.get_line_segments():\n",
    "                intersection = segment.intersects(traj_segment)\n",
    "                if intersection: # if intersection exists\n",
    "                    intersection_points.append(intersection)\n",
    "            intersection_points = sorted(intersection_points, key = lambda p : p.distance(segment.anchor))\n",
    "            new_traj.add_points([segment.anchor])\n",
    "            new_traj.add_points(intersection_points)\n",
    "            intersections.extend(intersection_points)\n",
    "        new_traj.add_points([segment.endpoint])\n",
    "        return new_traj, intersections\n",
    "    \n",
    "    def error_with(self, acquired):\n",
    "        assert len(self) >= 2 and len(acquired) >= 1, \"IncorrectInputTrajectories\"\n",
    "        S, I = self.add_intersection_points(acquired)\n",
    "        T, I = acquired.add_intersection_points(self)\n",
    "        pass"
   ]
  },
  {
   "cell_type": "code",
   "execution_count": null,
   "metadata": {},
   "outputs": [],
   "source": [
    "A= Trajectory([Point(0, 1), Point(1, 3), Point(2, 2), Point(3, -1), Point(4, 2), Point(3, 3)])\n",
    "B = Trajectory([Point(0, 2), Point(1, 2), Point(1.5, 3), Point(2.5, 3), Point(2, 0), Point(1, 0), Point(0.5, 3)])\n",
    "A.display()\n",
    "B.display(\"C1\")\n",
    "print(A)"
   ]
  },
  {
   "cell_type": "code",
   "execution_count": null,
   "metadata": {},
   "outputs": [],
   "source": [
    "C, I = A.add_intersection_points(B)\n",
    "D, I = B.add_intersection_points(A)\n",
    "D.display(\"red\")\n",
    "A.display()"
   ]
  },
  {
   "cell_type": "code",
   "execution_count": null,
   "metadata": {},
   "outputs": [],
   "source": [
    "print(I)"
   ]
  },
  {
   "cell_type": "code",
   "execution_count": null,
   "metadata": {},
   "outputs": [],
   "source": [
    "P = Point(0, 0)\n",
    "print(P)"
   ]
  },
  {
   "cell_type": "code",
   "execution_count": null,
   "metadata": {},
   "outputs": [],
   "source": [
    "a = 5\n",
    "b = 3\n",
    "print(f\"a vaut {a} et b vaut {b}\")"
   ]
  },
  {
   "cell_type": "code",
   "execution_count": null,
   "metadata": {},
   "outputs": [],
   "source": [
    "L = [1, 2, 3, 4, 5]\n",
    "L = [1.1, 1.2, 1.3, 2, 3, 4, 5]\n",
    "a[0:1] = [1.2, 1.5]\n",
    "print(a)"
   ]
  },
  {
   "cell_type": "code",
   "execution_count": null,
   "metadata": {},
   "outputs": [],
   "source": [
    "a = Trajectory([])"
   ]
  },
  {
   "cell_type": "code",
   "execution_count": null,
   "metadata": {},
   "outputs": [],
   "source": [
    "[LineSegment(Point(-2, 2), Point(3, 4)), LineSegment(Point(3, 2), Point(5, 8))]"
   ]
  },
  {
   "cell_type": "code",
   "execution_count": null,
   "metadata": {},
   "outputs": [],
   "source": [
    "L = [1, 2, 3]\n",
    "L + [4, 5]"
   ]
  },
  {
   "cell_type": "code",
   "execution_count": null,
   "metadata": {},
   "outputs": [],
   "source": [
    "P = [1, 2, 3, 4, 5]"
   ]
  },
  {
   "cell_type": "code",
   "execution_count": null,
   "metadata": {},
   "outputs": [],
   "source": [
    "S = [LineSegment(P[i], P[i+1]) for i in range(len(P) - 1)]"
   ]
  },
  {
   "cell_type": "code",
   "execution_count": null,
   "metadata": {},
   "outputs": [],
   "source": [
    "print(S)"
   ]
  },
  {
   "cell_type": "code",
   "execution_count": null,
   "metadata": {},
   "outputs": [],
   "source": [
    "T = Trajectory([Point(1, 2), Point(3, 4), Point(7, 8), Point(9, 5)])"
   ]
  },
  {
   "cell_type": "code",
   "execution_count": null,
   "metadata": {},
   "outputs": [],
   "source": [
    "seg = T.get_line_segments()[0]"
   ]
  },
  {
   "cell_type": "code",
   "execution_count": null,
   "metadata": {},
   "outputs": [],
   "source": [
    "print(seg)"
   ]
  },
  {
   "cell_type": "code",
   "execution_count": null,
   "metadata": {},
   "outputs": [],
   "source": [
    "seg.split([Point(2, 3), Point(2.5, 3.5)])"
   ]
  },
  {
   "cell_type": "code",
   "execution_count": null,
   "metadata": {},
   "outputs": [],
   "source": [
    "L = [\"reg\", \"al\", \"jede\"]\n",
    "sorted(L)"
   ]
  },
  {
   "cell_type": "code",
   "execution_count": null,
   "metadata": {},
   "outputs": [],
   "source": [
    "sorted(L, key = lambda e : len(e))"
   ]
  },
  {
   "cell_type": "code",
   "execution_count": null,
   "metadata": {},
   "outputs": [],
   "source": [
    "a = Point(2, 3)\n",
    "if a == None:\n",
    "    print(\"c'est un point\")\n",
    "else:\n",
    "    print('non')"
   ]
  },
  {
   "cell_type": "code",
   "execution_count": null,
   "metadata": {},
   "outputs": [],
   "source": []
  }
 ],
 "metadata": {
  "kernelspec": {
   "display_name": "Python 3",
   "language": "python",
   "name": "python3"
  },
  "language_info": {
   "codemirror_mode": {
    "name": "ipython",
    "version": 3
   },
   "file_extension": ".py",
   "mimetype": "text/x-python",
   "name": "python",
   "nbconvert_exporter": "python",
   "pygments_lexer": "ipython3",
   "version": "3.7.3"
  }
 },
 "nbformat": 4,
 "nbformat_minor": 4
}
